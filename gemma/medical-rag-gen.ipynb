{
 "cells": [
  {
   "cell_type": "markdown",
   "id": "9e87ac55-eb35-4b29-8305-2acb03df221c",
   "metadata": {},
   "source": [
    "In this project let's make a RAG text gen model focused on giving informative, disease responses to cure, such as symptoms of cancer/alzheimers/heart disease/stroke/diabetes/chronic lower respiratory diseases/chronic liver/cirrhosis and COVID\n",
    "\n",
    "We'll retrieve data relating too:\n",
    "* Statistical text to harm and also prevention to each of these disease\n",
    "* Informative molecular data how these diseases form, grow and die\n",
    "* How patients deal, maintain, get harmed from the disease in there words and also get cured out of them (what treatments that did, what treatments made it worst)\n",
    "* factual information of the causes of the treatments done in these patients, including statistical ones\n",
    "* How patients improve, deal or get worst with their nutrition, physical and mental activity\n",
    "* statstic information, the age group, ethnicity,sex and region do these diseases process\n",
    "* factual and statistical data on bio genetical these disease move, grow, improve and depreciate\n",
    "* How labs develop these treatment supplements, bio product, there causes, positive effects and harms\n",
    "* statistical data on which bio product performs the best of time, how they evolve, proces and die\n",
    "> **Important**: All manners of patient tied ethnicity and region/ biogenetical data on what they eat and activity (mental and physical) that made the feel worst or get another disease too or helped improve them or even cured there diseases and how there are dealing post curement"
   ]
  },
  {
   "cell_type": "markdown",
   "id": "a4ee855e-f42d-4cd0-9ec2-61a71f3e1d9e",
   "metadata": {},
   "source": [
    "The goal of this project is to make a AI chat bot that can give this information, in a specific factual practical way to the query\n",
    "\n",
    "That includes giving relevant sources of where the retrieved data was grabbed from, but the LLM from summarizes the RAG can implement a response mroe general and easier to understand of the factual data according to the users questions before tied to there needs and specifications asked before, model trying to process around that i they have this it can move other there and more\n",
    "\n",
    "To be honest this may require a bigger model than 2-3 billion params, to have more generalization and remember response of bigger prompts with more instructions but rather more human response such as a paragraph explaining what the problem (which requires a bigger set of params to tune what it views as it's output to over iterate it's response (this params is also tied to training data) which includes more generalization and precied wider reach of all) that makes it's weights higher making more heavier model with training data, before the tokenization part (the model part is the network and weights and bias), is how can it be fixed with someones capabilties as said before, what they can do to easier process there problem and tieing information on the outside through more to view (this will require a really good open big gen llm  model, not just a only model-it but rather it and also general to view having many training sets to give ouput and understand complex human language, to produce relevant sources according to user like a human advisor (non-beraucratic))\n",
    "\n",
    "> **NOTE:** I will investigate how to get `chat-gpt API` to use as LLM to be the one reading the complete format prompt at the end, all locally if it doesn't super exceed my local hardwares capabilities. If not than use a better model than gemma-2b-it that is more closer to this and can still fit well in the local hardware using from huggingface"
   ]
  },
  {
   "cell_type": "markdown",
   "id": "9c595666-1f0e-4824-99ce-b4be2f08f775",
   "metadata": {},
   "source": [
    "# Let's import all our dependencies"
   ]
  },
  {
   "cell_type": "code",
   "execution_count": 1,
   "id": "5db5faf4-5f47-4f7b-982f-ae34683ecd95",
   "metadata": {},
   "outputs": [],
   "source": [
    "import torch\n",
    "import matplotlib.pyplot as plt\n",
    "import numpy as np\n",
    "import pandas as pd\n",
    "import requests\n",
    "import tqdm\n",
    "import fitz\n",
    "from spacy.lang.en import English # Create sentence barrier\n",
    "from sentence_transformers import SentenceTransformer, util # The embedding model and the metric model to find meaning (similarity search between\n",
    "# query meaning and the vector data in database from the the sentence chunks we embedded)\n",
    "# Let's leave the LLM import later so we can know for certain which one we'll use\n",
    "# Same with BytesAndBytesConfig to know if we need that for LLM, leave it for later, as our hardware isn't able to use flash attention 2\n",
    "from newspaper import Article\n",
    "import re"
   ]
  },
  {
   "cell_type": "markdown",
   "id": "447b4ac8-e3e9-477c-ae65-3410f342667c",
   "metadata": {},
   "source": [
    "## Let's research and find all relevant data online for our database in RAG"
   ]
  },
  {
   "cell_type": "markdown",
   "id": "51f95135-395e-4d29-af10-a38623193262",
   "metadata": {},
   "source": [
    "Let's start with `site pages` and `PDF's` from our **data-processing notebook**"
   ]
  },
  {
   "cell_type": "code",
   "execution_count": 2,
   "id": "facdfcda-647c-4ebb-bb6e-fed583a4d7e8",
   "metadata": {},
   "outputs": [],
   "source": [
    "# Load CSV file from data processing that has the raw data formatted\n",
    "df = pd.read_csv(\"./data-processing/data-processing/whole_sitepages_pdf_text_df.csv\")\n",
    "data_dict = df.to_dict(orient=\"records\")\n",
    "df = pd.DataFrame(df)\n",
    "data_dict = df.to_dict(orient=\"records\")"
   ]
  },
  {
   "cell_type": "markdown",
   "id": "08ae5f0c-5645-46a0-984c-32d8eac3740b",
   "metadata": {},
   "source": [
    "There is a reason we repeated that 2 times. Since for some reason our pdf text seperates lines with `\\xa0` even though i replaced that in the `text_formatter` but when you send `df` ito a dataframe it automatically replaces those character for the dictionary when you send it again to `to_dict`\n",
    "\n",
    "Needs more research to understand why that happens"
   ]
  },
  {
   "cell_type": "code",
   "execution_count": 3,
   "id": "e07e0d43-9fea-4fb3-9ce2-4b6e27d6dc12",
   "metadata": {},
   "outputs": [
    {
     "data": {
      "text/html": [
       "<div>\n",
       "<style scoped>\n",
       "    .dataframe tbody tr th:only-of-type {\n",
       "        vertical-align: middle;\n",
       "    }\n",
       "\n",
       "    .dataframe tbody tr th {\n",
       "        vertical-align: top;\n",
       "    }\n",
       "\n",
       "    .dataframe thead th {\n",
       "        text-align: right;\n",
       "    }\n",
       "</style>\n",
       "<table border=\"1\" class=\"dataframe\">\n",
       "  <thead>\n",
       "    <tr style=\"text-align: right;\">\n",
       "      <th></th>\n",
       "      <th>page_char_count</th>\n",
       "      <th>page_word_count</th>\n",
       "      <th>page_sentence_count</th>\n",
       "      <th>page_token_count</th>\n",
       "    </tr>\n",
       "  </thead>\n",
       "  <tbody>\n",
       "    <tr>\n",
       "      <th>count</th>\n",
       "      <td>2770.00</td>\n",
       "      <td>2770.00</td>\n",
       "      <td>2770.00</td>\n",
       "      <td>2770.00</td>\n",
       "    </tr>\n",
       "    <tr>\n",
       "      <th>mean</th>\n",
       "      <td>4358.85</td>\n",
       "      <td>684.12</td>\n",
       "      <td>42.36</td>\n",
       "      <td>1089.71</td>\n",
       "    </tr>\n",
       "    <tr>\n",
       "      <th>std</th>\n",
       "      <td>3856.78</td>\n",
       "      <td>589.70</td>\n",
       "      <td>67.64</td>\n",
       "      <td>964.20</td>\n",
       "    </tr>\n",
       "    <tr>\n",
       "      <th>min</th>\n",
       "      <td>0.00</td>\n",
       "      <td>1.00</td>\n",
       "      <td>1.00</td>\n",
       "      <td>0.00</td>\n",
       "    </tr>\n",
       "    <tr>\n",
       "      <th>25%</th>\n",
       "      <td>2232.50</td>\n",
       "      <td>352.00</td>\n",
       "      <td>11.00</td>\n",
       "      <td>558.12</td>\n",
       "    </tr>\n",
       "    <tr>\n",
       "      <th>50%</th>\n",
       "      <td>3983.00</td>\n",
       "      <td>601.00</td>\n",
       "      <td>19.00</td>\n",
       "      <td>995.75</td>\n",
       "    </tr>\n",
       "    <tr>\n",
       "      <th>75%</th>\n",
       "      <td>5558.75</td>\n",
       "      <td>906.75</td>\n",
       "      <td>37.00</td>\n",
       "      <td>1389.69</td>\n",
       "    </tr>\n",
       "    <tr>\n",
       "      <th>max</th>\n",
       "      <td>91872.00</td>\n",
       "      <td>14163.00</td>\n",
       "      <td>1285.00</td>\n",
       "      <td>22968.00</td>\n",
       "    </tr>\n",
       "  </tbody>\n",
       "</table>\n",
       "</div>"
      ],
      "text/plain": [
       "       page_char_count  page_word_count  page_sentence_count  page_token_count\n",
       "count          2770.00          2770.00              2770.00           2770.00\n",
       "mean           4358.85           684.12                42.36           1089.71\n",
       "std            3856.78           589.70                67.64            964.20\n",
       "min               0.00             1.00                 1.00              0.00\n",
       "25%            2232.50           352.00                11.00            558.12\n",
       "50%            3983.00           601.00                19.00            995.75\n",
       "75%            5558.75           906.75                37.00           1389.69\n",
       "max           91872.00         14163.00              1285.00          22968.00"
      ]
     },
     "execution_count": 3,
     "metadata": {},
     "output_type": "execute_result"
    }
   ],
   "source": [
    "df.describe().round(2)"
   ]
  },
  {
   "cell_type": "markdown",
   "id": "69e04f9f-5571-4386-8fc5-1c8e3fd489e3",
   "metadata": {},
   "source": [
    "### Let's keep our formatted data into a dictionary that we can manipulate it easier\n",
    "\n",
    "We got our data on each key, let's add a sentenicer to create sentence barriers\n",
    "\n",
    "**Let's add SpaCy sentencizer** In our main jupyter notebook now"
   ]
  },
  {
   "cell_type": "code",
   "execution_count": 4,
   "id": "e3d22c12-3d3b-401b-b76b-8cb0767e70ff",
   "metadata": {},
   "outputs": [
    {
     "data": {
      "text/plain": [
       "[This is a sentence., This another., The last sentence.]"
      ]
     },
     "execution_count": 4,
     "metadata": {},
     "output_type": "execute_result"
    }
   ],
   "source": [
    "# Add spacy sentencizer\n",
    "# Let's do a sample to get how this works\n",
    "nlp = English()\n",
    "\n",
    "nlp.add_pipe('sentencizer') # sentencizer is meant to segment the text when nlp(\"text.\") into a object making as sentences\n",
    "doc = nlp(\"This is a sentence. This another. The last sentence.\")\n",
    "assert len(list(doc.sents)) == 3 # assert is like an if condition, if this isn't exactly 3 sentences than it would raise an AssertionError\n",
    "# We want this condition because clearly we have 3 sentences but this is to make sure that sentencizer NLP is working to find sentences\n",
    "list(doc.sents) # in this list contains each sentences, this efficient for our formatting and dictionary. In a page contains all the sentences to it\n",
    "# but each sentences is seperated and indentified in our code by a NLP sentencizer\n",
    "# the doc.sents will simple make the doc object that was done when we sent that sentence string to nlp and it turned it into an object\n",
    "# really to process it than doc.sents will create barrier on only that doc object format that sentencizer understands"
   ]
  },
  {
   "cell_type": "markdown",
   "id": "b47ee9dc-920a-4593-ba52-9828aeab5c36",
   "metadata": {},
   "source": [
    "### The sentencizer is working, let's make a function\n",
    "\n",
    "Let's function both this sentencizer with the accuracte amount of total sentences and\n",
    "make the chunks of 10 sentences in 1 function.\n",
    "\n",
    "> Also let's allow only sentences containing more than 30 tokens, anything less will excluded\n",
    "\n",
    "We are removing the less 30 tokens on the chunks because this is were we will process it into the embedding. If we minimized on sentences it wouldn't be clear to the total sentences as text creating is not fully fixed  (some sentences bigger than other) but in total 10 sentences should contain an expected amount of characters in total. In our case really doing it on the chunking process just makes it more practical as that's the area that will finally be embedded. So we make sure after embedding that each chunk contains more than 30 tokens.\n",
    "\n",
    "Plus the NLP on sentencizer well sentencize even when it sees `1.` or `3.` since it ends in a period and has a space. That's why it's better after nlp and chunking to only allow > 30 size tokens on each batch"
   ]
  },
  {
   "cell_type": "markdown",
   "id": "605eae79-bd02-41ff-9fc6-844297001951",
   "metadata": {},
   "source": [
    "#### Let's see if our nlp sentencizing works as it should for all of them, than afterwords we can proceed to place them in a dict --> chunks"
   ]
  },
  {
   "cell_type": "code",
   "execution_count": 5,
   "id": "82f8338d-615c-41a7-b4d3-a843dd0c3183",
   "metadata": {},
   "outputs": [],
   "source": [
    "# function\n",
    "\n",
    "def sentencizer_and_chunking(data_dict: list,\n",
    "                             num_sents_per_chunk: int=10):\n",
    "    \"\"\"\n",
    "    Sentencize your sentences, add them to dictionary with accurate total sentences,\n",
    "    chunk each sentences into 10 per group, add to dict again with right labels,\n",
    "    than exclude any chunks with less than 30 tokens.\n",
    "    \"\"\"\n",
    "\n",
    "    # Let's make a list to contain all the seperated sentences for a sample\n",
    "    # Make sure all text here is string when it identifies it, for some reason the nlp when seeing numbers can detect floats or ints even if they were\n",
    "    # in dataframe into dict so convert tem here to str to be sure\n",
    "    nlp = English()\n",
    "    nlp.add_pipe('sentencizer')\n",
    "    for i in data_dict:\n",
    "        text = str(i['text'])\n",
    "        doc = nlp(text)\n",
    "        sentence = [str(sent) for sent in doc.sents]\n",
    "        i['sentence'] = sentence\n",
    "        i[\"page_sentence_count_spacy\"] = len(i['sentence'])\n",
    "\n",
    "        # Chunk sentences\n",
    "        # Split the list\n",
    "        # for each item in rane of 0 to the max length of items in sentence_list, iterate by a step of num_sents_per_chunk, than have it return\n",
    "        # the sentence position that has 10\n",
    "        sentence_list = i['sentence']\n",
    "        split_sentence_list = [sentence_list[i:i + num_sents_per_chunk] for i in range(0, len(sentence_list), num_sents_per_chunk)]\n",
    "        # Loop through the pages and split the sentences into chunks\n",
    "        i[\"sentence_chunk\"] = [chunk for chunk in split_sentence_list]\n",
    "        i['num_chunks'] = len(i[\"sentence_chunk\"])\n",
    "\n",
    "    return data_dict\n",
    "\n",
    "def chunks_and_tokenize(data_dict: list,\n",
    "                        token_amount: int):\n",
    "    \"\"\"\n",
    "    This will make a chunk_list filled of dictionaries, to make analyzes more practical.\n",
    "    It will exclude a token amount to allow only a set minimum # tokens in our chunks\n",
    "    \"\"\"\n",
    "\n",
    "    # Make chunk list(dict)\n",
    "    pages_and_chunks = []\n",
    "    for i in data_dict:\n",
    "        for sentence_chunk in i['sentence_chunk']:\n",
    "            chunk_dict = {}\n",
    "            chunk_dict[\"link_or_page_number\"] = i[\"link_or_page_number\"]\n",
    "            # Join sentences together as a paragpraph structure (as a chunk so it's just a single string than rather seperated in the sentence chunk all\n",
    "            # together)\n",
    "            joined_sentence_chunk = \"\".join(sentence_chunk).replace(\"  \", \" \").strip()\n",
    "            joined_sentence_chunk = re.sub(r'\\.([A-Z0-9])', r'. \\1', joined_sentence_chunk) # For any full stopped characters\n",
    "            chunk_dict[\"sentence_chunk\"] = joined_sentence_chunk\n",
    "\n",
    "            # Get stats for chunk dict\n",
    "            chunk_dict[\"chunk_char_count\"] = len(joined_sentence_chunk)\n",
    "            chunk_dict[\"chunk_word_count\"] = len([word for word in joined_sentence_chunk.split(\" \")]) # Now it's seperated in the entire dictionary, that \n",
    "            # way calling each item is really each character before a space making it a word\n",
    "\n",
    "            # Let's only allow 30 tokens or above\n",
    "            chunk_dict[\"chunk_token_count\"] = len(joined_sentence_chunk) / 4\n",
    "            pages_and_chunks.append(chunk_dict)\n",
    "\n",
    "    # Let's only allow 30 tokens above for each chunk\n",
    "    df = pd.DataFrame(pages_and_chunks)\n",
    "    pages_and_chunks_overmin_token_dict = df[df[\"chunk_token_count\"] > token_amount].to_dict(orient=\"records\")\n",
    "    \n",
    "    return pages_and_chunks, pages_and_chunks_overmin_token_dict"
   ]
  },
  {
   "cell_type": "markdown",
   "id": "7b0bcc8b-f704-46ca-a0bf-e39306bf9485",
   "metadata": {},
   "source": [
    "It will count 20 even if there was 15 sentences since it rounds"
   ]
  },
  {
   "cell_type": "markdown",
   "id": "e9545648-49ef-4149-b067-536970aff936",
   "metadata": {},
   "source": [
    "in this line of code: `sentence = [str(sent) for sent in doc.sents]` the doc.sents is to make the object nlp in sents barrier, once it does than each sentence inside that object will be make into string type and sentence is now the variable containing just the sentence for the page or link we're looking at"
   ]
  },
  {
   "cell_type": "markdown",
   "id": "a63a969e-2a30-4923-b7da-8b8cff5ef5d3",
   "metadata": {},
   "source": [
    "#### We can analyze after sentencizing and chunking, too see if everything was good\n",
    "\n",
    "By seeing in dataframes but all of this after making sentences than chunks"
   ]
  },
  {
   "cell_type": "code",
   "execution_count": 6,
   "id": "89750d12-2198-412b-8805-7127811e3abb",
   "metadata": {},
   "outputs": [],
   "source": [
    "sentences_and_chunks = sentencizer_and_chunking(data_dict=data_dict,\n",
    "                                                num_sents_per_chunk=10)"
   ]
  },
  {
   "cell_type": "code",
   "execution_count": 7,
   "id": "d392bb06-dcbd-4a32-8e31-34d5c21936be",
   "metadata": {},
   "outputs": [],
   "source": [
    "chunk_token_dict, chunk_min_token = chunks_and_tokenize(data_dict=data_dict,\n",
    "                                                        token_amount=30)"
   ]
  },
  {
   "cell_type": "markdown",
   "id": "8b33094b-a642-4ae2-be8c-5ad767aa6378",
   "metadata": {},
   "source": [
    "Let's analyze these chunks now"
   ]
  },
  {
   "cell_type": "code",
   "execution_count": 8,
   "id": "28a8d740-36e5-47eb-8149-c7dd433819c8",
   "metadata": {},
   "outputs": [
    {
     "data": {
      "text/plain": [
       "(11934, 11669)"
      ]
     },
     "execution_count": 8,
     "metadata": {},
     "output_type": "execute_result"
    }
   ],
   "source": [
    "len(chunk_token_dict), len(chunk_min_token)"
   ]
  },
  {
   "cell_type": "markdown",
   "id": "41c9e7e1-8a35-4378-a36d-748de7ef24fb",
   "metadata": {},
   "source": [
    "#### Get the funtion grab the seperated sentences and add them to `data_dict` we're all those other keys are and get an accurate sentence count\n",
    "\n",
    "or you can add them to the dataframe `df` if that is more practical, as another column filled with that sentence content, make it drop the last sentences with new ones. This is so that we can actually chunk our sentences by 10 since it's unpredictable to do this without seperating them with NLP"
   ]
  },
  {
   "cell_type": "code",
   "execution_count": 9,
   "id": "470c17f1-7361-4207-b4b0-63f3983e7f7c",
   "metadata": {},
   "outputs": [
    {
     "data": {
      "text/html": [
       "<div>\n",
       "<style scoped>\n",
       "    .dataframe tbody tr th:only-of-type {\n",
       "        vertical-align: middle;\n",
       "    }\n",
       "\n",
       "    .dataframe tbody tr th {\n",
       "        vertical-align: top;\n",
       "    }\n",
       "\n",
       "    .dataframe thead th {\n",
       "        text-align: right;\n",
       "    }\n",
       "</style>\n",
       "<table border=\"1\" class=\"dataframe\">\n",
       "  <thead>\n",
       "    <tr style=\"text-align: right;\">\n",
       "      <th></th>\n",
       "      <th>page_char_count</th>\n",
       "      <th>page_word_count</th>\n",
       "      <th>page_sentence_count</th>\n",
       "      <th>page_token_count</th>\n",
       "      <th>page_sentence_count_spacy</th>\n",
       "      <th>num_chunks</th>\n",
       "    </tr>\n",
       "  </thead>\n",
       "  <tbody>\n",
       "    <tr>\n",
       "      <th>count</th>\n",
       "      <td>2770.00</td>\n",
       "      <td>2770.00</td>\n",
       "      <td>2770.00</td>\n",
       "      <td>2770.00</td>\n",
       "      <td>2770.00</td>\n",
       "      <td>2770.00</td>\n",
       "    </tr>\n",
       "    <tr>\n",
       "      <th>mean</th>\n",
       "      <td>4358.85</td>\n",
       "      <td>684.12</td>\n",
       "      <td>42.36</td>\n",
       "      <td>1089.71</td>\n",
       "      <td>38.33</td>\n",
       "      <td>4.31</td>\n",
       "    </tr>\n",
       "    <tr>\n",
       "      <th>std</th>\n",
       "      <td>3856.78</td>\n",
       "      <td>589.70</td>\n",
       "      <td>67.64</td>\n",
       "      <td>964.20</td>\n",
       "      <td>53.40</td>\n",
       "      <td>5.33</td>\n",
       "    </tr>\n",
       "    <tr>\n",
       "      <th>min</th>\n",
       "      <td>0.00</td>\n",
       "      <td>1.00</td>\n",
       "      <td>1.00</td>\n",
       "      <td>0.00</td>\n",
       "      <td>1.00</td>\n",
       "      <td>1.00</td>\n",
       "    </tr>\n",
       "    <tr>\n",
       "      <th>25%</th>\n",
       "      <td>2232.50</td>\n",
       "      <td>352.00</td>\n",
       "      <td>11.00</td>\n",
       "      <td>558.12</td>\n",
       "      <td>11.00</td>\n",
       "      <td>2.00</td>\n",
       "    </tr>\n",
       "    <tr>\n",
       "      <th>50%</th>\n",
       "      <td>3983.00</td>\n",
       "      <td>601.00</td>\n",
       "      <td>19.00</td>\n",
       "      <td>995.75</td>\n",
       "      <td>19.00</td>\n",
       "      <td>2.00</td>\n",
       "    </tr>\n",
       "    <tr>\n",
       "      <th>75%</th>\n",
       "      <td>5558.75</td>\n",
       "      <td>906.75</td>\n",
       "      <td>37.00</td>\n",
       "      <td>1389.69</td>\n",
       "      <td>37.00</td>\n",
       "      <td>4.00</td>\n",
       "    </tr>\n",
       "    <tr>\n",
       "      <th>max</th>\n",
       "      <td>91872.00</td>\n",
       "      <td>14163.00</td>\n",
       "      <td>1285.00</td>\n",
       "      <td>22968.00</td>\n",
       "      <td>1170.00</td>\n",
       "      <td>117.00</td>\n",
       "    </tr>\n",
       "  </tbody>\n",
       "</table>\n",
       "</div>"
      ],
      "text/plain": [
       "       page_char_count  page_word_count  page_sentence_count  \\\n",
       "count          2770.00          2770.00              2770.00   \n",
       "mean           4358.85           684.12                42.36   \n",
       "std            3856.78           589.70                67.64   \n",
       "min               0.00             1.00                 1.00   \n",
       "25%            2232.50           352.00                11.00   \n",
       "50%            3983.00           601.00                19.00   \n",
       "75%            5558.75           906.75                37.00   \n",
       "max           91872.00         14163.00              1285.00   \n",
       "\n",
       "       page_token_count  page_sentence_count_spacy  num_chunks  \n",
       "count           2770.00                    2770.00     2770.00  \n",
       "mean            1089.71                      38.33        4.31  \n",
       "std              964.20                      53.40        5.33  \n",
       "min                0.00                       1.00        1.00  \n",
       "25%              558.12                      11.00        2.00  \n",
       "50%              995.75                      19.00        2.00  \n",
       "75%             1389.69                      37.00        4.00  \n",
       "max            22968.00                    1170.00      117.00  "
      ]
     },
     "execution_count": 9,
     "metadata": {},
     "output_type": "execute_result"
    }
   ],
   "source": [
    "pages_sentences_and_chunks_df = pd.DataFrame(sentences_and_chunks)\n",
    "# pages_and_sentences_df.head()\n",
    "pages_sentences_and_chunks_df.describe().round(2)"
   ]
  },
  {
   "cell_type": "code",
   "execution_count": 13,
   "id": "24985d9a-9376-4a14-8828-1aa0cf8506b5",
   "metadata": {},
   "outputs": [
    {
     "data": {
      "text/plain": [
       "2"
      ]
     },
     "execution_count": 13,
     "metadata": {},
     "output_type": "execute_result"
    }
   ],
   "source": [
    "# pages_sentences_and_chunks_df[:2]\n",
    "data_dict[2]['num_chunks']"
   ]
  },
  {
   "cell_type": "code",
   "execution_count": 14,
   "id": "86b3b1ad-3b67-4688-9d3c-89e1befa6f94",
   "metadata": {},
   "outputs": [
    {
     "data": {
      "text/plain": [
       "15"
      ]
     },
     "execution_count": 14,
     "metadata": {},
     "output_type": "execute_result"
    }
   ],
   "source": [
    "data_dict[2]['page_sentence_count_spacy']"
   ]
  },
  {
   "cell_type": "markdown",
   "id": "e09a6916-9cd5-455b-8024-4ddd4cd14e38",
   "metadata": {},
   "source": [
    "### Now let's make a seperate dictionary in the function called `chunk_dict`\n",
    "\n",
    "showing relevant information for our daata analysis (we can in future add each step process in other variables in a OOP) after that than we can any chunk that has less than 30 tokens"
   ]
  },
  {
   "cell_type": "markdown",
   "id": "05a8bebf-c638-456f-b92c-1a9354192402",
   "metadata": {},
   "source": [
    "### This chunking is correctly because it needs to find each chunk per page\n",
    "\n",
    "The total chunks can be really big"
   ]
  },
  {
   "cell_type": "code",
   "execution_count": 11,
   "id": "35d0e855-7ef9-4769-bbd0-b9f98bad5a91",
   "metadata": {},
   "outputs": [],
   "source": [
    "# chunk_token_dict[:2]"
   ]
  },
  {
   "cell_type": "code",
   "execution_count": 16,
   "id": "151a55cf-e2ea-46b0-8cc4-1720685b1f5a",
   "metadata": {},
   "outputs": [],
   "source": [
    "# data_dict[:5]"
   ]
  },
  {
   "cell_type": "code",
   "execution_count": 17,
   "id": "de9b6519-5b14-45d8-8f4f-93e6a9b2a788",
   "metadata": {},
   "outputs": [
    {
     "data": {
      "text/html": [
       "<div>\n",
       "<style scoped>\n",
       "    .dataframe tbody tr th:only-of-type {\n",
       "        vertical-align: middle;\n",
       "    }\n",
       "\n",
       "    .dataframe tbody tr th {\n",
       "        vertical-align: top;\n",
       "    }\n",
       "\n",
       "    .dataframe thead th {\n",
       "        text-align: right;\n",
       "    }\n",
       "</style>\n",
       "<table border=\"1\" class=\"dataframe\">\n",
       "  <thead>\n",
       "    <tr style=\"text-align: right;\">\n",
       "      <th></th>\n",
       "      <th>chunk_char_count</th>\n",
       "      <th>chunk_word_count</th>\n",
       "      <th>chunk_token_count</th>\n",
       "    </tr>\n",
       "  </thead>\n",
       "  <tbody>\n",
       "    <tr>\n",
       "      <th>count</th>\n",
       "      <td>11934.00</td>\n",
       "      <td>11934.00</td>\n",
       "      <td>11934.00</td>\n",
       "    </tr>\n",
       "    <tr>\n",
       "      <th>mean</th>\n",
       "      <td>1007.98</td>\n",
       "      <td>155.80</td>\n",
       "      <td>252.00</td>\n",
       "    </tr>\n",
       "    <tr>\n",
       "      <th>std</th>\n",
       "      <td>873.15</td>\n",
       "      <td>144.56</td>\n",
       "      <td>218.29</td>\n",
       "    </tr>\n",
       "    <tr>\n",
       "      <th>min</th>\n",
       "      <td>1.00</td>\n",
       "      <td>1.00</td>\n",
       "      <td>0.25</td>\n",
       "    </tr>\n",
       "    <tr>\n",
       "      <th>25%</th>\n",
       "      <td>486.00</td>\n",
       "      <td>71.00</td>\n",
       "      <td>121.50</td>\n",
       "    </tr>\n",
       "    <tr>\n",
       "      <th>50%</th>\n",
       "      <td>683.00</td>\n",
       "      <td>103.00</td>\n",
       "      <td>170.75</td>\n",
       "    </tr>\n",
       "    <tr>\n",
       "      <th>75%</th>\n",
       "      <td>1317.00</td>\n",
       "      <td>202.75</td>\n",
       "      <td>329.25</td>\n",
       "    </tr>\n",
       "    <tr>\n",
       "      <th>max</th>\n",
       "      <td>14241.00</td>\n",
       "      <td>2630.00</td>\n",
       "      <td>3560.25</td>\n",
       "    </tr>\n",
       "  </tbody>\n",
       "</table>\n",
       "</div>"
      ],
      "text/plain": [
       "       chunk_char_count  chunk_word_count  chunk_token_count\n",
       "count          11934.00          11934.00           11934.00\n",
       "mean            1007.98            155.80             252.00\n",
       "std              873.15            144.56             218.29\n",
       "min                1.00              1.00               0.25\n",
       "25%              486.00             71.00             121.50\n",
       "50%              683.00            103.00             170.75\n",
       "75%             1317.00            202.75             329.25\n",
       "max            14241.00           2630.00            3560.25"
      ]
     },
     "execution_count": 17,
     "metadata": {},
     "output_type": "execute_result"
    }
   ],
   "source": [
    "df = pd.DataFrame(chunk_token_dict)\n",
    "df.describe().round(2)"
   ]
  },
  {
   "cell_type": "markdown",
   "id": "5095a7ff-e98e-4905-b248-55279041593c",
   "metadata": {},
   "source": [
    "### Our chunks have a low token count\n",
    "\n",
    "Let's add a minimum amount to keep a worthy quantity of tokens"
   ]
  },
  {
   "cell_type": "code",
   "execution_count": 18,
   "id": "13762165-60b2-4067-b51e-a63232535e05",
   "metadata": {},
   "outputs": [],
   "source": [
    "# for row in df[df[\"chunk_token_count\"] <= 30].sample(10).iterrows():\n",
    "#     print(f'Page Number or link: {row[1][\"link_or_page_number\"]} | Chunk token count: {row[1][\"chunk_token_count\"]} | Text: {row[1][\"sentence_chunk\"]}')"
   ]
  },
  {
   "attachments": {
    "63fc1183-b1ab-4aae-95d7-679d57e556b6.png": {
     "image/png": "[encoded data removed]"
    }
   },
   "cell_type": "markdown",
   "id": "a83a24d3-733c-49c7-bc06-ffb183ce3a47",
   "metadata": {},
   "source": [
    "![image.png](attachment:63fc1183-b1ab-4aae-95d7-679d57e556b6.png)"
   ]
  },
  {
   "cell_type": "markdown",
   "id": "803f13c2-c1a7-4229-9715-4aabf86685aa",
   "metadata": {},
   "source": [
    "### These tokens are not reliably, they give either titles, captions or headers\n",
    "\n",
    "Let's change to only allow above 30 tokens"
   ]
  },
  {
   "cell_type": "markdown",
   "id": "1f8de4e4-76bb-4971-a7fb-d8691b8d20dd",
   "metadata": {},
   "source": [
    "Let's place this inside our function"
   ]
  },
  {
   "cell_type": "code",
   "execution_count": 19,
   "id": "449fe774-0c59-4708-bcfe-d60e973e4b07",
   "metadata": {},
   "outputs": [],
   "source": [
    "# chunk_min_token[:10]"
   ]
  },
  {
   "cell_type": "markdown",
   "id": "01ffa589-e3c3-41c1-b704-32cfba29f614",
   "metadata": {},
   "source": [
    "### Great! Let's now finally embed our sentences into numeric form\n",
    "\n",
    "using `all-mpnet-base-v2` is seen as the best in sbert.net\n",
    "\n",
    "It has low memory size, A high embedding speed and semantic search. It's now the complete fastest in embed but all around it's better than the rest because there is another that has 1 digit above in speed for embedding but it takes long to cross semantic search and has a bigger size storage requirement which isn't worth it\n",
    "\n",
    "So we'll stick to `all-mpnet-base-v2`"
   ]
  },
  {
   "cell_type": "markdown",
   "id": "75a3f70c-da25-4ece-b9da-1dcd06188b53",
   "metadata": {},
   "source": [
    "#### Let's create a function to just embed our data\n",
    "\n",
    "We keep this step seperate if we needed to manipulate anything additionally in the future with just our function for the NLP and chunking process"
   ]
  },
  {
   "cell_type": "code",
   "execution_count": 20,
   "id": "96e54656-1cb0-40ee-a8de-fbb9bd589751",
   "metadata": {},
   "outputs": [],
   "source": [
    "# Let's use the sentence_transformers for the embedding\n",
    "embedding_model = SentenceTransformer(model_name_or_path='all-mpnet-base-v2',\n",
    "                                      device='cuda')"
   ]
  },
  {
   "cell_type": "code",
   "execution_count": 23,
   "id": "abbf19bb-e641-4337-8d85-a6d3f14ed98f",
   "metadata": {},
   "outputs": [],
   "source": [
    "def embedding_data(chunk_data: list,\n",
    "                   batch_size: int=10,\n",
    "                   convert_to_tensors: bool=True):\n",
    "    \"\"\"\n",
    "    Embeds the whole sentence_chunks inside the dictionary into\n",
    "    vectors.\n",
    "    \"\"\"\n",
    "    \n",
    "    for i in chunk_data:\n",
    "        i[\"embeddings\"] = embedding_model.encode(i[\"sentence_chunk\"])\n",
    "\n",
    "    df = pd.DataFrame(chunk_data)\n",
    "    df.to_csv(\"./chunks_tokenized.csv\", index=False)\n",
    "    # Let's batch them into 32 to make the processing faster\n",
    "    # text_chunks = [i['sentence_chunk'] for i in chunk_min_token]\n",
    "\n",
    "    # text_chunk_embeddings = embedding_model.encode(text_chunks,\n",
    "    #                                                batch_size=batch_size,\n",
    "    #                                                convert_to_tensor=True)\n",
    "    return chunk_data"
   ]
  },
  {
   "cell_type": "markdown",
   "id": "bd295d22-2eda-47f5-8cd0-52dfee4f945b",
   "metadata": {},
   "source": [
    "#### I tried the batching but it made no difference with no batching\n",
    "\n",
    "So it's simplier to comment out the code doing that"
   ]
  },
  {
   "cell_type": "code",
   "execution_count": 24,
   "id": "1e40279f-02ba-41e0-b30f-89635c7dea28",
   "metadata": {},
   "outputs": [],
   "source": [
    "text_chunk_embeddings = embedding_data(chunk_min_token)"
   ]
  },
  {
   "cell_type": "markdown",
   "id": "6ebf5b09-95c6-42b1-a22a-bbf4b2e4bd1c",
   "metadata": {},
   "source": [
    "Great we just added the embeddings to our dictionary on `chunk_min_token`\n",
    "\n",
    "We can actually batch them to make the process faster\n",
    "\n",
    "### Lets add the `text_chunk_embedding` inside our `chunk_min_token` dict\n",
    "\n",
    "✅than after we will save it to a csv to save our embedded format vector data in the database"
   ]
  },
  {
   "cell_type": "markdown",
   "id": "0b04eac9-faa2-46a6-97b0-d8f62ca7f1b3",
   "metadata": {},
   "source": [
    "## Let's now load our csv embeddings (tokens officially) into a dataframe"
   ]
  },
  {
   "cell_type": "code",
   "execution_count": 2,
   "id": "6124bd4b-201b-4f0c-84a0-7f4e63b185ce",
   "metadata": {},
   "outputs": [
    {
     "data": {
      "text/html": [
       "<div>\n",
       "<style scoped>\n",
       "    .dataframe tbody tr th:only-of-type {\n",
       "        vertical-align: middle;\n",
       "    }\n",
       "\n",
       "    .dataframe tbody tr th {\n",
       "        vertical-align: top;\n",
       "    }\n",
       "\n",
       "    .dataframe thead th {\n",
       "        text-align: right;\n",
       "    }\n",
       "</style>\n",
       "<table border=\"1\" class=\"dataframe\">\n",
       "  <thead>\n",
       "    <tr style=\"text-align: right;\">\n",
       "      <th></th>\n",
       "      <th>link_or_page_number</th>\n",
       "      <th>sentence_chunk</th>\n",
       "      <th>chunk_char_count</th>\n",
       "      <th>chunk_word_count</th>\n",
       "      <th>chunk_token_count</th>\n",
       "      <th>embeddings</th>\n",
       "    </tr>\n",
       "  </thead>\n",
       "  <tbody>\n",
       "    <tr>\n",
       "      <th>0</th>\n",
       "      <td>0</td>\n",
       "      <td>1. Checkpoints Inhibitors: Checkpoint inhibito...</td>\n",
       "      <td>878</td>\n",
       "      <td>128</td>\n",
       "      <td>219.5</td>\n",
       "      <td>[ 7.50207156e-02 -6.30471781e-02 -2.76404526e-...</td>\n",
       "    </tr>\n",
       "    <tr>\n",
       "      <th>1</th>\n",
       "      <td>0</td>\n",
       "      <td>Some drugs, known as apoptosis inducers, can t...</td>\n",
       "      <td>830</td>\n",
       "      <td>127</td>\n",
       "      <td>207.5</td>\n",
       "      <td>[ 2.01551374e-02 -1.88169186e-03 -3.07534169e-...</td>\n",
       "    </tr>\n",
       "    <tr>\n",
       "      <th>2</th>\n",
       "      <td>0</td>\n",
       "      <td>Senescence inducers target speciﬁc pathways in...</td>\n",
       "      <td>398</td>\n",
       "      <td>59</td>\n",
       "      <td>99.5</td>\n",
       "      <td>[ 4.52404656e-02  1.68271977e-02 -5.62751805e-...</td>\n",
       "    </tr>\n",
       "  </tbody>\n",
       "</table>\n",
       "</div>"
      ],
      "text/plain": [
       "  link_or_page_number                                     sentence_chunk  \\\n",
       "0                   0  1. Checkpoints Inhibitors: Checkpoint inhibito...   \n",
       "1                   0  Some drugs, known as apoptosis inducers, can t...   \n",
       "2                   0  Senescence inducers target speciﬁc pathways in...   \n",
       "\n",
       "   chunk_char_count  chunk_word_count  chunk_token_count  \\\n",
       "0               878               128              219.5   \n",
       "1               830               127              207.5   \n",
       "2               398                59               99.5   \n",
       "\n",
       "                                          embeddings  \n",
       "0  [ 7.50207156e-02 -6.30471781e-02 -2.76404526e-...  \n",
       "1  [ 2.01551374e-02 -1.88169186e-03 -3.07534169e-...  \n",
       "2  [ 4.52404656e-02  1.68271977e-02 -5.62751805e-...  "
      ]
     },
     "execution_count": 2,
     "metadata": {},
     "output_type": "execute_result"
    }
   ],
   "source": [
    "# loaded chunks and tokens\n",
    "df_embeds = pd.read_csv('./chunks_tokenized.csv')\n",
    "df_embeds[:3]"
   ]
  },
  {
   "cell_type": "markdown",
   "id": "6ff593df-1602-433e-8f3a-fff149e715f1",
   "metadata": {},
   "source": [
    "## We have to convert the embeddings column in df into `tensors`\n",
    "\n",
    "First we have grab each element in embeddings row and make into a numpy array first before making them into tensors"
   ]
  },
  {
   "cell_type": "code",
   "execution_count": 3,
   "id": "9abc5fd3-4461-4ec3-9609-c8e4f9b99dbf",
   "metadata": {},
   "outputs": [],
   "source": [
    "# convert to np array on embeddings\n",
    "\n",
    "# Apply to each element in row (rows content) is what the apply(lamda) is doing. np already makes into array when you say it came from np.fromstring\n",
    "# fromstring into np array\n",
    "df_embeds[\"embeddings\"] = df_embeds[\"embeddings\"].apply(lambda x: np.fromstring(x.strip(\"[]\"), sep=\" \"))\n",
    "\n",
    "# convert df into list[dict]\n",
    "embeds_dict = df_embeds.to_dict(orient=\"records\")\n",
    "\n",
    "# convert into tensors\n",
    "embeddings = torch.tensor(np.array(df_embeds[\"embeddings\"].to_list()), dtype=torch.float32).to('cuda')"
   ]
  },
  {
   "cell_type": "code",
   "execution_count": 4,
   "id": "f52c8601-13d9-4755-ae6e-e7a3c4223017",
   "metadata": {},
   "outputs": [
    {
     "data": {
      "text/plain": [
       "torch.Size([11669, 768])"
      ]
     },
     "execution_count": 4,
     "metadata": {},
     "output_type": "execute_result"
    }
   ],
   "source": [
    "embeddings.shape"
   ]
  },
  {
   "cell_type": "markdown",
   "id": "360db684-0947-4d59-9b37-f8c3c2605e33",
   "metadata": {},
   "source": [
    "This is standard dimension for the sentence transformer we got\n",
    "\n",
    "We also placed this embeddings into a `list` so we can use it later when it comes to processing the whole rag pipeline"
   ]
  },
  {
   "cell_type": "markdown",
   "id": "7198bdfc-a9b6-4fce-8e94-0f14f504e105",
   "metadata": {},
   "source": [
    "## Let's use the whole RAG this time to see if everything is working as expected"
   ]
  },
  {
   "cell_type": "code",
   "execution_count": 5,
   "id": "01552e81-1a10-4fb0-9a68-d58625736d91",
   "metadata": {},
   "outputs": [],
   "source": [
    "from time import perf_counter as timer"
   ]
  },
  {
   "cell_type": "code",
   "execution_count": 6,
   "id": "bb77cbd5-9983-455f-b37c-b240f8121ccd",
   "metadata": {},
   "outputs": [],
   "source": [
    "# # RAG\n",
    "# query = \"what treatments can be done when someone has breast cancer\"\n",
    "\n",
    "# # embed query\n",
    "# query_embeddings = embedding_model.encode(query,\n",
    "#                                           convert_to_tensor=True).to('cuda')\n",
    "\n",
    "# # compare query embeddings with data embeddings using dot score\n",
    "# start_time = timer()\n",
    "# dot_scores = util.dot_score(a=query_embeddings, b=embeddings)[0]\n",
    "# end_time = timer()\n",
    "\n",
    "# # Get top5 scores\n",
    "# scores, indices = torch.topk(dot_scores, k=5)\n",
    "\n",
    "# print(f\"Scores: {scores}\")\n",
    "# print(f\"Indices: {indices}\")"
   ]
  },
  {
   "cell_type": "code",
   "execution_count": 40,
   "id": "98bb9021-6be9-451c-9053-589a5e31f26e",
   "metadata": {},
   "outputs": [
    {
     "data": {
      "text/plain": [
       "{'link_or_page_number': '13',\n",
       " 'sentence_chunk': 'Patients undergoing mastectomy may also need radiation if the tumor is large or there is lymph node involvement. Women undergoing mastectomy who elect breast reconstruction have several options, including the type of tissue or implant used to restore breast shape. Reconstruction may be performed at the time of mastectomy or later, but often requires more than one surgery. Depending on cancer stage, subtype, and sometimes other test results, such as tumor gene expression profiling (e.g., Oncotype DX), treatment may also involve chemotherapy (before and/or after surgery), hormone (anti-estrogen) therapy, targeted therapy, and/ or immunotherapy (e.g., immune checkpoint inhibitors). Survival: The 5- and 10-year relative survival rates are 91% and 85%, respectively, for invasive breast cancer overall, mostly because two-thirds of women are diagnosed with localized-stage disease. Despite progress over time, the 5-year survival rate is 10% lower (in absolute terms) for Black women (83%) than for White women (93%; Table 7), partly reflecting lower likelihood of localized-stage diagnosis (56% versus 67%). Reducing this and other cancer disparities is a focus of the American Cancer Society and many other organizations. See Breast Cancer Facts & Figures at cancer.org/statistics for more information on breast cancer. Cancer in Children and Adolescents New cases and deaths: In 2024, an estimated 9,620 children (ages 0 to 14 years) and 5,290 adolescents (ages 15-19 years) will be diagnosed with cancer, and 1,040 children and 550 adolescents will die from the disease. Cancer is the leading disease-related cause of death among both children and adolescents.',\n",
       " 'chunk_char_count': 1669,\n",
       " 'chunk_word_count': 248,\n",
       " 'chunk_token_count': 417.25,\n",
       " 'embeddings': array([ 4.40204106e-02,  1.30479550e-02, -2.95081194e-02, -5.41925468e-02,\n",
       "         1.37745095e-02,  3.66912074e-02,  4.56919987e-03, -5.74293695e-02,\n",
       "        -4.90388721e-02, -2.89338510e-02,  1.37014994e-02, -6.20683432e-02,\n",
       "         2.77156965e-03,  4.14405763e-02, -1.03902660e-01,  1.74889620e-02,\n",
       "        -2.45459694e-02, -6.31435402e-03, -1.49013512e-02,  4.92993975e-03,\n",
       "        -1.49531206e-02,  3.81791443e-02, -1.80313252e-02, -3.01194866e-03,\n",
       "        -1.03198672e-02,  4.11444344e-02,  7.37805143e-02,  2.70816730e-03,\n",
       "        -3.52983549e-02, -1.11412825e-02,  7.42191002e-02, -8.16236213e-02,\n",
       "        -4.77350652e-02, -1.31586008e-02,  2.43867908e-06, -5.54170236e-02,\n",
       "         1.11203641e-02, -3.27302478e-02,  4.10451367e-03, -4.96512651e-03,\n",
       "         2.81504244e-02, -5.12894988e-02, -3.99775282e-02,  3.01117450e-02,\n",
       "         2.41244230e-02,  1.17855258e-02, -4.66428697e-03,  1.93487649e-04,\n",
       "        -1.83699913e-02, -1.30724153e-02, -1.11418525e-02, -2.22206898e-02,\n",
       "         1.13686556e-02,  4.95598987e-02, -3.26410234e-02,  7.36785010e-02,\n",
       "        -1.42892636e-02, -5.47609478e-02,  3.67722847e-03, -4.70074359e-03,\n",
       "         1.37435952e-02,  7.29682222e-02, -2.07006242e-02, -1.38311656e-02,\n",
       "        -5.85314073e-02,  1.55274346e-02,  7.27154911e-02, -2.68307757e-02,\n",
       "         2.30243517e-04,  3.87954898e-02,  5.45207784e-02,  2.07412839e-02,\n",
       "         3.64362225e-02, -2.20730603e-02,  1.91718303e-02,  4.31470498e-02,\n",
       "        -4.03570198e-02,  9.25464649e-03, -4.06212248e-02,  6.03840547e-03,\n",
       "        -1.02587491e-02, -1.12458384e-02,  2.88098119e-03, -2.83672679e-02,\n",
       "         2.44804733e-02,  2.73168627e-02, -5.19385212e-04,  4.87054363e-02,\n",
       "        -8.22683945e-02, -1.86278708e-02,  2.17926595e-02, -4.17968491e-03,\n",
       "         2.72587668e-02, -2.21685525e-02, -3.77434306e-02,  1.17233191e-02,\n",
       "        -3.86258326e-02, -1.10302800e-02,  2.76592784e-02, -5.05944155e-02,\n",
       "        -7.96394199e-02, -1.22866789e-02, -4.86352965e-02,  1.60248913e-02,\n",
       "        -3.49116549e-02, -9.38488096e-02, -5.65006922e-04,  4.34938110e-02,\n",
       "        -3.58613729e-02, -5.75167639e-03,  4.38450314e-02,  7.58127216e-03,\n",
       "         6.24697618e-02,  2.79741473e-02, -2.68371054e-03,  5.22038862e-02,\n",
       "        -2.34344937e-02, -3.31260776e-03, -3.83108333e-02,  1.40628992e-02,\n",
       "         3.24336886e-02, -1.54176196e-02,  1.86715666e-02, -1.06294295e-02,\n",
       "        -2.45882338e-03,  3.03252693e-02, -3.69470380e-03, -2.66082026e-02,\n",
       "         6.29493920e-03, -7.76511878e-02,  4.26721275e-02, -5.63353337e-02,\n",
       "         1.97204407e-02, -4.24109437e-02, -1.55048231e-02,  8.35031271e-03,\n",
       "        -2.57375836e-03,  4.16219756e-02, -5.27025061e-03,  3.93375941e-02,\n",
       "        -4.09610793e-02, -5.07908799e-02, -7.85126351e-03, -3.15766991e-03,\n",
       "        -3.39805074e-02,  4.50027250e-02,  3.42132710e-02,  4.43406031e-02,\n",
       "         2.84029022e-02, -1.48364687e-02,  1.46189053e-02, -1.91019177e-02,\n",
       "         7.98166096e-02, -3.47956014e-03,  8.80637094e-02,  6.81257388e-03,\n",
       "         2.28434205e-02,  1.03721619e-02,  4.06589024e-02, -2.20580101e-02,\n",
       "        -3.06947455e-02, -8.93933792e-03, -1.31445184e-01, -3.01190745e-02,\n",
       "         3.67864892e-02,  7.20650926e-02, -1.35933002e-02, -5.06330747e-03,\n",
       "        -3.44749019e-02,  3.09249535e-02, -3.87219787e-02, -5.44641586e-03,\n",
       "         1.17009385e-02, -2.44848933e-02, -3.68459485e-02,  3.13142240e-02,\n",
       "         1.34407543e-02,  7.05548376e-02, -6.79882243e-02, -3.09950318e-02,\n",
       "         1.45707792e-02, -2.46337466e-02, -2.57970802e-02,  6.59701740e-03,\n",
       "        -3.32937553e-03, -3.14500071e-02, -2.59505305e-02, -1.93926170e-02,\n",
       "         1.30853038e-02, -3.78257111e-02, -1.40160462e-02,  3.04927137e-02,\n",
       "         4.52916231e-03,  1.20623037e-02, -2.15047458e-03, -3.43584130e-03,\n",
       "         3.97662958e-03, -1.29372731e-01, -2.07351763e-02,  5.82596138e-02,\n",
       "         1.14569254e-02, -5.82630746e-02, -5.21488488e-02, -9.07444302e-03,\n",
       "        -5.17358305e-03, -1.83134153e-02, -4.82583642e-02,  2.67780130e-03,\n",
       "         2.07069330e-02, -6.46232814e-02, -5.37579916e-02,  4.95686233e-02,\n",
       "        -2.81684529e-02,  7.58250877e-02,  1.68224387e-02,  3.96640860e-02,\n",
       "        -1.18821207e-02, -1.47654181e-02,  9.39492194e-04,  7.22755026e-03,\n",
       "        -3.73420268e-02,  8.25600047e-03, -3.03814486e-02,  4.15233262e-02,\n",
       "         1.74499035e-03,  8.60776659e-03,  3.58176371e-03, -2.24367678e-02,\n",
       "        -1.13611929e-02,  1.21775037e-02, -5.86070726e-03,  3.52006145e-02,\n",
       "        -2.29915958e-02,  3.88351381e-02, -1.73116066e-02,  4.25539948e-02,\n",
       "         4.36528260e-03, -9.71947890e-03, -2.97706742e-02, -1.88131128e-02,\n",
       "        -2.14902721e-02, -2.34956387e-02,  2.51979684e-03, -1.05766449e-02,\n",
       "         4.35562693e-02, -2.55066026e-02,  2.29340978e-02,  7.96526223e-02,\n",
       "        -9.57132597e-03,  3.66829708e-02, -3.66813168e-02,  3.75253409e-02,\n",
       "        -2.03512628e-02, -9.42819007e-03, -7.28237182e-02,  8.58617499e-02,\n",
       "        -7.91724399e-02, -5.30307069e-02, -2.77177989e-02, -1.28177451e-02,\n",
       "         5.52972965e-02,  9.62144230e-03, -1.06988382e-02, -4.65536211e-03,\n",
       "        -6.42818436e-02, -4.34153415e-02,  3.06385336e-03, -5.52987605e-02,\n",
       "         2.47814506e-03,  5.74322138e-03,  4.61687893e-03, -1.72807779e-02,\n",
       "        -1.85799538e-04,  9.04250704e-03, -5.80008402e-02, -4.67758216e-02,\n",
       "        -3.30606960e-02,  3.11389063e-02,  4.36510369e-02, -2.95502576e-03,\n",
       "         4.30866294e-02,  2.75599491e-02, -1.91940479e-02, -5.24799600e-02,\n",
       "         2.26581078e-02, -8.71488824e-03,  4.83686253e-02, -4.04633582e-02,\n",
       "         5.53828403e-02,  7.33166561e-02,  4.78911400e-02,  2.39315107e-02,\n",
       "        -1.79969799e-02, -2.85625197e-02, -8.08743015e-03, -1.54337212e-02,\n",
       "        -3.27693149e-02,  7.07269739e-03,  3.62533168e-03,  3.65951397e-02,\n",
       "        -2.58168317e-02, -2.08861623e-02, -4.28177193e-02,  7.21452452e-05,\n",
       "        -5.66204451e-03, -7.81094953e-02,  2.85823103e-02, -5.90242445e-02,\n",
       "        -1.91702582e-02, -1.16346078e-02,  1.34876175e-02, -2.88943257e-02,\n",
       "        -5.85842784e-03, -9.80805829e-02, -4.48267087e-02,  1.16540808e-02,\n",
       "        -8.98379907e-02,  6.58740550e-02,  2.94895358e-02, -1.59239173e-02,\n",
       "         1.27465427e-02,  4.14823182e-03,  2.43812371e-02,  7.84771144e-02,\n",
       "         2.66687348e-02, -5.46313860e-02, -1.52214209e-03,  3.81185114e-02,\n",
       "        -2.51093134e-02, -3.33201885e-03, -2.98623890e-02, -2.30067652e-02,\n",
       "        -9.94287338e-03, -3.27910893e-02, -4.23255637e-02,  2.17828192e-02,\n",
       "         2.23962031e-02, -1.75530836e-02, -4.48714644e-02,  6.49123341e-02,\n",
       "         1.40685644e-02,  2.07459722e-02, -2.43893545e-02, -2.36279201e-02,\n",
       "         5.08420691e-02, -6.08442910e-02,  2.38464940e-02,  2.91278362e-02,\n",
       "        -5.64895310e-02, -3.85632962e-02, -2.69614160e-03,  8.67694169e-02,\n",
       "         1.41740786e-02,  1.57983825e-02, -1.53446458e-02, -1.82971414e-02,\n",
       "         1.82428081e-02, -7.70007307e-03, -6.05304986e-02, -6.45456230e-03,\n",
       "         3.16188782e-02,  6.02060705e-02, -5.79897016e-02, -1.80785265e-02,\n",
       "        -2.23366916e-02, -1.11129917e-02,  3.25162485e-02,  3.32291005e-03,\n",
       "         8.92405491e-03,  3.98315340e-02,  4.03190404e-02, -2.73063183e-02,\n",
       "         5.15363626e-02, -1.47426547e-02, -3.66309062e-02,  6.90003708e-02,\n",
       "        -2.07423177e-02, -1.44903399e-02, -6.22032359e-02, -1.20866606e-02,\n",
       "        -1.74273527e-03, -6.28343411e-03,  4.94637452e-02, -7.55298091e-03,\n",
       "        -3.19504850e-02,  1.36194769e-02,  3.88731435e-02,  2.51093004e-02,\n",
       "         4.70548607e-02, -1.00861778e-02, -4.15330529e-02, -1.72684323e-02,\n",
       "         3.54251713e-02,  1.54005066e-02,  1.16942925e-02,  6.24322519e-02,\n",
       "         8.56077299e-03, -5.91234711e-04,  2.45532412e-02, -2.96236072e-02,\n",
       "        -8.04366451e-03, -3.37433629e-02, -3.27092968e-02, -1.09224757e-02,\n",
       "        -4.54271398e-03, -2.43126731e-02, -7.18915835e-02,  1.81417149e-02,\n",
       "        -2.63117682e-02,  3.26037332e-02, -4.52467687e-02,  5.69050685e-02,\n",
       "        -1.32526932e-02,  5.08901179e-02,  2.82923933e-02,  2.38041561e-02,\n",
       "         3.64946872e-02, -1.11576254e-02,  1.71481017e-02,  3.62001173e-02,\n",
       "         1.98168214e-02,  3.06834728e-02, -1.48107437e-02, -8.26756563e-03,\n",
       "         2.03117970e-02, -3.68643627e-02,  6.91143097e-03, -7.93123171e-02,\n",
       "        -3.12745199e-02,  1.99390613e-02,  3.13364454e-02, -2.51836106e-02,\n",
       "         6.31645089e-03,  5.46969958e-02, -6.16461262e-02,  8.94580856e-02,\n",
       "         2.15994492e-02, -1.58966593e-02,  4.46580239e-02,  1.58852749e-02,\n",
       "         5.14969639e-02,  5.11484081e-03, -2.11238861e-02,  4.31851409e-02,\n",
       "         3.37755643e-02, -1.97219606e-02, -2.07226388e-02, -4.57672141e-02,\n",
       "         6.61441609e-02,  3.24885286e-02,  2.88483500e-02, -2.45821010e-03,\n",
       "        -2.37924214e-02, -1.10503961e-03, -1.91999450e-02,  1.61535051e-02,\n",
       "        -2.46905237e-02,  1.14778709e-02,  1.18523175e-02, -6.10670149e-02,\n",
       "        -6.38680113e-03, -2.89121130e-03, -3.30036767e-02, -4.10446711e-02,\n",
       "        -3.10648996e-02,  5.97020425e-02, -4.70412895e-02, -2.18419861e-02,\n",
       "        -2.69068461e-02, -3.28198932e-02,  1.62961874e-02,  5.37876189e-02,\n",
       "         1.46957522e-03, -1.14894230e-02, -9.36196186e-03, -1.47134475e-02,\n",
       "        -1.10922167e-02,  1.01969643e-02,  3.03987917e-02,  1.54449577e-02,\n",
       "         1.74203888e-02, -4.90417238e-03,  2.85312235e-02,  1.63353458e-02,\n",
       "        -1.57761257e-02, -2.52445228e-02, -3.96197699e-02, -3.57213095e-02,\n",
       "         1.47912856e-02,  5.59497974e-04, -2.82264668e-02,  2.20599817e-03,\n",
       "         3.85580994e-02, -1.91547722e-02, -6.83282909e-04, -2.02263724e-02,\n",
       "        -5.57277091e-02,  2.26629563e-02,  3.02403793e-02,  1.52780004e-02,\n",
       "         6.80971071e-02,  4.15765345e-02,  7.47287122e-05, -9.19332802e-02,\n",
       "         9.24066640e-03,  7.03581702e-03,  3.82942371e-02, -6.52275905e-02,\n",
       "         4.67410944e-02,  1.39240669e-02, -1.96192414e-02,  1.04427319e-02,\n",
       "         9.61091369e-03,  3.38548645e-02, -2.70512216e-02, -1.19794449e-02,\n",
       "        -1.21017611e-02,  1.94294546e-02,  1.36906002e-02, -2.24575959e-03,\n",
       "        -1.42141934e-02, -3.00012063e-02,  3.87663692e-02, -6.61813235e-03,\n",
       "         1.02131538e-01,  3.30264270e-02,  2.62637045e-02,  4.29691859e-02,\n",
       "        -6.39861077e-02,  5.42924693e-03,  5.06573208e-02,  4.13212518e-04,\n",
       "        -2.48634201e-02,  6.38090353e-03, -2.61555295e-02,  1.50086991e-02,\n",
       "         8.00985023e-02,  6.87363818e-02, -7.38478871e-03, -1.24802152e-02,\n",
       "         3.02366447e-02,  2.31607840e-03,  2.99944896e-02, -7.08701238e-02,\n",
       "        -4.43099812e-03, -5.35945892e-02, -3.89812477e-02, -3.13159078e-02,\n",
       "         1.20470589e-02, -6.76940680e-02, -6.03600591e-02,  7.04485103e-02,\n",
       "         9.55917388e-02, -4.32994328e-02,  5.00695314e-03, -6.08741541e-33,\n",
       "         1.40803484e-02,  7.43604451e-03,  2.92752613e-03, -2.46864688e-02,\n",
       "        -3.57242338e-02,  3.82015221e-02, -1.88257173e-02, -2.25693174e-02,\n",
       "         2.53496971e-02,  6.15267875e-03,  1.85673498e-02,  4.40326296e-02,\n",
       "        -2.56297784e-03,  5.40602319e-02, -1.39235314e-02, -4.44522053e-02,\n",
       "         1.36498911e-02, -5.24428114e-02,  1.47291068e-02, -4.75831591e-02,\n",
       "        -4.99988385e-02, -1.35472780e-02, -1.12629989e-02,  6.71492368e-02,\n",
       "         1.01501547e-01, -3.96315700e-05,  2.46199202e-02, -4.55224216e-02,\n",
       "        -1.89653300e-02,  2.58048880e-03,  3.55518274e-02,  7.88581744e-02,\n",
       "        -1.11812213e-02, -3.11783087e-02,  1.92836709e-02,  2.36828160e-02,\n",
       "        -3.38602019e-03, -5.09709446e-03, -1.31525230e-02,  1.79500375e-02,\n",
       "        -7.05115572e-02,  4.94674779e-03,  5.38871884e-02,  3.82281989e-02,\n",
       "         4.65631438e-03, -2.11915355e-02,  1.22005809e-02, -3.15617472e-02,\n",
       "        -9.42071155e-03,  2.34905779e-02,  7.32307211e-02,  1.76974647e-02,\n",
       "         5.05516352e-03,  3.75037752e-02,  2.61361301e-02, -1.00057144e-02,\n",
       "        -3.52540836e-02,  5.41976094e-02, -2.84286458e-02,  2.90840827e-02,\n",
       "         2.88629420e-02,  2.67207753e-02, -1.16758216e-02, -2.37846151e-02,\n",
       "         8.00710451e-03, -3.59659716e-02,  1.38991987e-02, -3.79270576e-02,\n",
       "        -2.36768872e-02,  3.88588160e-02, -2.49042045e-02, -3.68491895e-02,\n",
       "        -7.39731565e-02,  6.82625845e-02,  3.48842703e-02,  5.49102463e-02,\n",
       "        -3.58871967e-02, -3.34744155e-02, -6.66883662e-02,  4.15634587e-02,\n",
       "        -6.37309849e-02,  4.52575460e-02, -5.20290695e-02,  3.02552488e-02,\n",
       "        -2.94139944e-02, -9.75349080e-03,  2.16514319e-02, -3.59529583e-03,\n",
       "        -4.13853070e-03, -8.36959202e-03, -3.52805927e-02, -6.71915943e-03,\n",
       "        -5.12968153e-02, -6.70664292e-03,  1.47719570e-02,  9.67623107e-03,\n",
       "         8.78830105e-02,  1.22423824e-02, -1.37787098e-02, -1.90065391e-02,\n",
       "         5.59484027e-02,  3.05298083e-02,  1.91943683e-02, -7.89229125e-02,\n",
       "        -5.13323676e-03, -6.87575154e-03, -2.44359653e-02,  1.72008527e-03,\n",
       "        -2.84999590e-02,  5.81363309e-03, -5.63637493e-03,  1.81602482e-02,\n",
       "        -1.57586299e-02,  2.58700754e-02, -2.30626035e-02,  1.76006146e-02,\n",
       "         1.75654292e-02, -1.70958489e-02,  1.37365283e-02,  2.59717684e-02,\n",
       "         1.01527274e-02, -1.81783978e-02, -2.60220673e-02, -5.03836200e-02,\n",
       "        -1.10834558e-02,  1.00049493e-03,  2.04682108e-02,  2.11076941e-02,\n",
       "         2.35379692e-02, -3.05681005e-02,  2.89182961e-02,  5.65216057e-02,\n",
       "         3.33391341e-07,  8.33915919e-03,  9.87151731e-03,  4.51754667e-02,\n",
       "        -6.21552318e-02,  7.36932456e-02, -8.38868413e-03,  2.04189476e-02,\n",
       "        -1.93487145e-02,  6.15821257e-02,  2.10919529e-02, -4.75668488e-03,\n",
       "        -1.36901473e-03,  3.02725546e-02, -4.27553011e-03,  2.70161405e-02,\n",
       "         6.63467974e-04,  7.20255775e-03,  9.85260401e-03,  6.23394065e-02,\n",
       "        -9.28644650e-03,  3.84536572e-02, -2.82700825e-02,  1.81432944e-02,\n",
       "        -1.38851041e-02, -2.33496446e-02,  2.83196382e-02, -4.05975394e-02,\n",
       "        -5.55139296e-02,  3.33320722e-03, -3.34923379e-02, -8.05716366e-02,\n",
       "         1.71750989e-02,  4.47927453e-02,  1.20867463e-02,  9.31596942e-03,\n",
       "        -7.27269277e-02,  1.68071315e-02,  2.27557085e-02,  2.15430465e-02,\n",
       "         1.96670163e-02, -8.72710813e-03,  6.65124953e-02, -8.23454838e-03,\n",
       "         1.01068355e-02,  3.23730595e-02, -4.11564112e-03,  8.30779597e-03,\n",
       "         1.31543847e-02,  6.62848204e-02, -2.20085792e-02,  3.02458908e-02,\n",
       "        -1.98161174e-02, -1.10104166e-01, -1.44514558e-03,  2.46900767e-02,\n",
       "         2.43676994e-02, -4.27868962e-03,  2.31551789e-02,  4.45974357e-02,\n",
       "         3.39076072e-02, -4.40940522e-02, -6.91637099e-02,  3.03712599e-02,\n",
       "         2.41114032e-02,  1.83092616e-02, -2.49713622e-02,  6.39726892e-02,\n",
       "         2.30377883e-34,  6.74230233e-03, -1.25778820e-02, -1.92249026e-02,\n",
       "        -4.84093325e-03, -1.73189715e-02,  3.69442292e-02, -3.32321525e-02,\n",
       "        -8.73653311e-03, -3.89447436e-03,  4.77362890e-03, -1.21177519e-02],\n",
       "       dtype=float32)}"
      ]
     },
     "execution_count": 40,
     "metadata": {},
     "output_type": "execute_result"
    }
   ],
   "source": [
    "chunk_min_token[301]"
   ]
  },
  {
   "cell_type": "markdown",
   "id": "e9140083-07f2-49bc-a997-75d2683c06e9",
   "metadata": {},
   "source": [
    "### Let's make the visualization of the output more appealing by applying functions"
   ]
  },
  {
   "cell_type": "code",
   "execution_count": 6,
   "id": "18642ea9-7cc0-41a5-8f86-2ca607d0b616",
   "metadata": {},
   "outputs": [],
   "source": [
    "import textwrap"
   ]
  },
  {
   "cell_type": "code",
   "execution_count": 7,
   "id": "e94e7ee3-c7de-49c6-8707-979c151f2460",
   "metadata": {},
   "outputs": [],
   "source": [
    "# Make a text wrapper\n",
    "\n",
    "def text_wrapper(text):\n",
    "    \"\"\"\n",
    "    Wraps the text that will pass here\n",
    "    \"\"\"\n",
    "\n",
    "    clean_text = textwrap.fill(text, 80)\n",
    "\n",
    "    print(clean_text)"
   ]
  },
  {
   "cell_type": "markdown",
   "id": "a88098ed-9c1b-4eea-a6e2-2f4f32e4ce6e",
   "metadata": {},
   "source": [
    "### Let's make a function for the whole rag output"
   ]
  },
  {
   "cell_type": "code",
   "execution_count": 8,
   "id": "05263f5f-5af2-4582-ab49-ce7f15b3545c",
   "metadata": {},
   "outputs": [],
   "source": [
    "# Let's first get the embedding model\n",
    "embedding_model = SentenceTransformer(model_name_or_path=\"all-mpnet-base-v2\",\n",
    "                                      device='cuda')"
   ]
  },
  {
   "cell_type": "code",
   "execution_count": 9,
   "id": "209dad63-822a-4c0b-a167-4a0fad83bbb1",
   "metadata": {},
   "outputs": [],
   "source": [
    "# functionize\n",
    "\n",
    "def rag_pipeline(query,\n",
    "                 embedding_model,\n",
    "                 embeddings,\n",
    "                 device: str,\n",
    "                 chunk_min_token: list):\n",
    "    \"\"\"\n",
    "    Grabs a query and retrieve data all in passages, augments them, than it\n",
    "    it outputs the top 5 relevant results regarding query's meaning using dot scores.\n",
    "    \"\"\"\n",
    "\n",
    "    # Retrieval\n",
    "    query_embeddings = embedding_model.encode(query, convert_to_tensor=True).to(device)\n",
    "\n",
    "    # Augmentation\n",
    "    dot_scores = util.dot_score(a=query_embeddings, b=embeddings)[0]\n",
    "\n",
    "    # Output\n",
    "    scores, indices = torch.topk(dot_scores, k=5)\n",
    "    counting = 0\n",
    "    for score, idx in zip(scores, indices):\n",
    "        counting+=1\n",
    "        clean_score = score.item()*100\n",
    "        print(f\"For the ({counting}) result has a score: {round(clean_score, 2)}%\")\n",
    "        print(f\"On index: {idx}\")\n",
    "        print(f\"Relevant Text:\\n\")\n",
    "        print(f\"{text_wrapper(chunk_min_token[idx]['sentence_chunk'])}\\n\")"
   ]
  },
  {
   "cell_type": "markdown",
   "id": "a30c18c1-5979-481d-a0dc-a73bd66f9dd5",
   "metadata": {},
   "source": [
    "To view the score rounded we can't see it as a tensor but rather python float which as simple as saying `score.item()`"
   ]
  },
  {
   "cell_type": "code",
   "execution_count": 12,
   "id": "2b486b77-0830-4556-b311-44b1894a9c02",
   "metadata": {},
   "outputs": [
    {
     "name": "stdout",
     "output_type": "stream",
     "text": [
      "For the (1) result has a score: 73.35%\n",
      "On index: 11458\n",
      "Relevant Text:\n",
      "\n",
      "The only option is to watch, wait and hope. Nonetheless, the locality of a\n",
      "stroke can determine just how and what area of a person’s functioning may be\n",
      "affected. For example, brain stem strokes are the most catastrophic as they can\n",
      "affect involuntary functions such as breathing and heart rate. Cerebellum\n",
      "strokes affect balance and coordination, while strokes restricted to the right\n",
      "or left hemisphere of the brain can cause paralysis on opposing sides of the\n",
      "body. What causes a stroke? There are two major causes of stroke. The majority\n",
      "of strokes result from reduced blood flow to the brain due to a blocked or\n",
      "narrowed blood vessel, with the remainder resulting from a burst blood vessel or\n",
      "brain bleed. Blocked artery – ischemic stroke Stroke resulting from an\n",
      "obstruction or constriction in the blood vessels that supply oxygen to the brain\n",
      "is known as ischemic stroke. In ischemic stroke, blood supply can be restricted\n",
      "by either: An atherosclerotic thrombus - a blood clot that forms at a\n",
      "fatty/cholesterol plaque on the blood vessel wall, restricting or completely\n",
      "blocking blood flow; or An embolism – a travelling blood clot (usually broken\n",
      "away from a distant thrombus) that has become lodged in a blood vessel supplying\n",
      "the brain. When blood flow to the brain is temporarily restricted, the result is\n",
      "a transient ischemic attack or mini-stroke, which can be an early warning sign\n",
      "that a more severe stroke is on its way.\n",
      "None\n",
      "\n",
      "For the (2) result has a score: 72.13%\n",
      "On index: 11101\n",
      "Relevant Text:\n",
      "\n",
      "As a result, brain cells do not receive the oxygen-rich blood needed to function\n",
      "and tissue damage takes place. Around 87% of strokes are ischemic and are caused\n",
      "by a blood clot traveling from another place in the body. Commonly, these clots\n",
      "(or embolisms) originate in the heart and float to the brain. While different\n",
      "arteries can entrap a clot, the most common are the middle cerebral artery (MCA)\n",
      "and the anterior cerebral artery (ACA). Timely Treatment = Better Outcomes Early\n",
      "stroke detection is very important and can help reduce tissue damage in the\n",
      "brain. Familiarizing yourself with the different stroke warning signs can help\n",
      "you or a loved one access timely stroke treatment. These stroke signs can\n",
      "include drooping of the face, weakness of an arm on one side of the body,\n",
      "slurred speech, or a sudden severe headache. If you or a loved one demonstrate\n",
      "these signs, get emergency help immediately. If you are experiencing a stroke,\n",
      "upon arrival to the hospital, your medical team will work to determine which\n",
      "type of stroke you are experiencing. This diagnosis process will likely involve\n",
      "a variety of tests and different types of imaging.\n",
      "None\n",
      "\n",
      "For the (3) result has a score: 71.71%\n",
      "On index: 11457\n",
      "Relevant Text:\n",
      "\n",
      "What is a stroke? Stroke shatters the lives of 15 million people worldwide each\n",
      "year, killing five million and leaving five million survivors with a permanent\n",
      "disability. Stroke can rob survivors of their ability to see, hear, speak, eat,\n",
      "move independently, and recognise familiar faces and things. It can also affect\n",
      "personality and memory. So what exactly happens to cause such devastating\n",
      "consequences?The simple answer is the death and damage of brain cells due to a\n",
      "restriction or blockage of blood flow to the brain. Without a sufficient blood\n",
      "supply, brain cells are quickly depleted of the oxygen and vital nutrients that\n",
      "they require to function and survive. The hours following an initial stroke\n",
      "insult are unpredictable, and clinicians don’t have a crystal ball to foresee\n",
      "long-term outcomes. Will there be any loss of cognitive or motor function beyond\n",
      "that which is immediately apparent?Is there any risk of stroke recurrence in the\n",
      "days, years or months that follow?\n",
      "None\n",
      "\n",
      "For the (4) result has a score: 69.67%\n",
      "On index: 10304\n",
      "Relevant Text:\n",
      "\n",
      "Transient ischaemic attacks (TIAs) happen when one of the blood vessels that\n",
      "supply your brain with oxygen-rich blood becomes blocked. This interruption in\n",
      "the flow of blood to the brain means it cannot do some of its normal functions\n",
      "properly, leading to symptoms such as slurred speech and weakness. In TIAs, the\n",
      "blockage quickly resolves and your brain's blood supply returns to normal before\n",
      "there's any significant damage. In a full stroke, the blood flow to your brain\n",
      "is disrupted for much longer, leading to more severe damage to the brain and\n",
      "longer-term problems. The blockage in the blood vessels responsible for most\n",
      "TIAs is usually caused by a blood clot that's formed elsewhere in your body and\n",
      "travelled to the blood vessels supplying the brain. It can also be caused by\n",
      "pieces of fatty material or air bubbles. In very rare cases, a TIA can be caused\n",
      "by a small amount of bleeding in the brain known as a haemorrhage.\n",
      "None\n",
      "\n",
      "For the (5) result has a score: 69.54%\n",
      "On index: 11112\n",
      "Relevant Text:\n",
      "\n",
      "Stroke | American Association of Neurological Surgeons Stroke is an abrupt\n",
      "interruption of constant blood flow to the brain that causes loss of\n",
      "neurological function. The interruption of blood flow can be caused by a\n",
      "blockage, leading to the more common ischemic stroke, or by bleeding in the\n",
      "brain, leading to the more deadly hemorrhagic stroke. Ischemic stroke\n",
      "constitutes an estimated 87 percent of all stroke cases. Stroke often occurs\n",
      "with little or no warning, and the results can be devastating. It is crucial\n",
      "that proper blood flow and oxygen be restored to the brain as soon as possible.\n",
      "Without oxygen and important nutrients, the affected brain cells are either\n",
      "damaged or die within a few minutes. Once brain cells die, they generally do not\n",
      "regenerate and devastating damage may occur, sometimes resulting in physical,\n",
      "cognitive and mental disabilities. Ischemic Stroke Thrombotic (cerebral\n",
      "thrombosis) is the most common type of ischemic stroke. A blood clot forms\n",
      "inside a diseased or damaged artery in the brain resulting from atherosclerosis\n",
      "(cholesterol-containing deposits called plaque), blocking blood flow. is the\n",
      "most common type of ischemic stroke.\n",
      "None\n",
      "\n"
     ]
    }
   ],
   "source": [
    "query = \"How does a stroke happen?\"\n",
    "rag_pipeline(query=query,\n",
    "             embedding_model=embedding_model,\n",
    "             embeddings=embeddings,\n",
    "             device=\"cuda\",\n",
    "             chunk_min_token=embeds_dict)"
   ]
  },
  {
   "cell_type": "markdown",
   "id": "242d437c-1b0e-481f-a920-3f9f25735bb6",
   "metadata": {},
   "source": [
    "#### Great! We have made the RAG Pipeline"
   ]
  },
  {
   "attachments": {
    "8f0a2557-8b64-4135-9899-11d6f0eab633.png": {
     "image/png": "[encoded data removed]"
    }
   },
   "cell_type": "markdown",
   "id": "9e2df0ef-fbdd-4d61-8329-6e95476c218d",
   "metadata": {},
   "source": [
    "![image.png](attachment:8f0a2557-8b64-4135-9899-11d6f0eab633.png)"
   ]
  },
  {
   "cell_type": "markdown",
   "id": "1aea2eb9-d442-4b1d-9c8c-74de6d03d55a",
   "metadata": {},
   "source": [
    "# Now let's decide what LLM we'll use\n",
    "\n",
    "In this project, I don't want to reuse gemma-2b-it because it's not that general and lacks general more modern language model\n",
    "\n",
    "> Make the output more as a paragraph response of a key view points of facts and suggestions mixed for the users own needs or wants\n",
    ">\n",
    "\n",
    "### We're going to use chatgpt API to load it\n",
    "\n",
    "Here are the docs - https://platform.openai.com/docs/guides/text-generation\n",
    "\n",
    "According to OpenAI\n",
    "* We need to make a request containghte inputs and our API key\n",
    "* For the response of our request will contain the models output\n",
    "* `gpt-3.5-turbo` can be accessed through the chat completions API endpoint"
   ]
  },
  {
   "cell_type": "code",
   "execution_count": 10,
   "id": "4f025e93-dd01-41f2-ac19-a7b11945fb95",
   "metadata": {},
   "outputs": [],
   "source": [
    "# !pip install openai"
   ]
  },
  {
   "cell_type": "code",
   "execution_count": 11,
   "id": "d36b4111-1326-4e03-bf31-acbab92073e2",
   "metadata": {},
   "outputs": [],
   "source": [
    "# import OpenAI class for gpt3.5 turbo\n",
    "from openai import OpenAI"
   ]
  },
  {
   "cell_type": "code",
   "execution_count": 12,
   "id": "31a152f6-3eca-47d4-b8b8-9b92d9e220e3",
   "metadata": {},
   "outputs": [],
   "source": [
    "import json"
   ]
  },
  {
   "cell_type": "markdown",
   "id": "d6700735-0d8e-4485-8cfb-761abfd8cf05",
   "metadata": {},
   "source": [
    "Let's make a sample first to see how this API LLM works"
   ]
  },
  {
   "cell_type": "markdown",
   "id": "1f01d7bc-85c9-45f6-b2e5-f8b9a24468d6",
   "metadata": {},
   "source": [
    "Apparently the LLM responds on json, we'll have to give json dumps\n",
    "\n",
    "We're using an exercise from here: https://cookbook.openai.com/examples/how_to_format_inputs_to_chatgpt_models"
   ]
  },
  {
   "cell_type": "code",
   "execution_count": 13,
   "id": "2f520df4-51cb-48d0-a126-5cede890ce38",
   "metadata": {},
   "outputs": [],
   "source": [
    "# # Let's make a sample\n",
    "# # You need to pass API Keys into () on OpenAI\n",
    "\n",
    "# client = OpenAI(api_key=OPEN_AI_API_KEYS)\n",
    "# gpt_model = \"gpt-3.5-turbo\"\n",
    "# # We need to pass it authentication headers using bearer auth to get access to the model\n",
    "# response = client.chat.completions.create(\n",
    "#     model=gpt_model,\n",
    "#     messages=[\n",
    "#         {\"role\": \"system\", \"content\": \"You are a helpful assistant.\"},\n",
    "#         {\"role\": \"user\", \"content\": \"Knock Knock.\"},\n",
    "#         {\"role\": \"assistant\", \"content\": \"Who's there?\"},\n",
    "#         {\"role\": \"user\", \"content\": \"Orange.\"},\n",
    "#     ],\n",
    "#     temperature=0,\n",
    "# )"
   ]
  },
  {
   "cell_type": "code",
   "execution_count": 97,
   "id": "c586f302-f73c-41f4-b681-9026c026e027",
   "metadata": {},
   "outputs": [],
   "source": [
    "# url = \"https://api.openai.com/v1/chat/completions\"\n",
    "# headers = {\n",
    "#     \"Content-Type\": \"application/json\",\n",
    "#      \"Authorization\": f\"Bearer {OPEN_AI_API_KEYS}\"\n",
    "# }"
   ]
  },
  {
   "cell_type": "markdown",
   "id": "3a77884b-c1fc-4f3a-b78a-51b36a58e9fc",
   "metadata": {},
   "source": [
    "### Let's view the models response on `json` format"
   ]
  },
  {
   "cell_type": "code",
   "execution_count": 104,
   "id": "94de3ff6-e72b-425d-b4fb-75b2cd93346d",
   "metadata": {},
   "outputs": [
    {
     "name": "stdout",
     "output_type": "stream",
     "text": [
      "{\n",
      "    \"id\": \"chatcmpl-9HrH2MyJPDiA79y173hDibckvmGJX\",\n",
      "    \"choices\": [\n",
      "        {\n",
      "            \"finish_reason\": \"stop\",\n",
      "            \"index\": 0,\n",
      "            \"logprobs\": null,\n",
      "            \"message\": {\n",
      "                \"content\": \"Orange who?\",\n",
      "                \"role\": \"assistant\",\n",
      "                \"function_call\": null,\n",
      "                \"tool_calls\": null\n",
      "            }\n",
      "        }\n",
      "    ],\n",
      "    \"created\": 1714043388,\n",
      "    \"model\": \"gpt-3.5-turbo-0125\",\n",
      "    \"object\": \"chat.completion\",\n",
      "    \"system_fingerprint\": \"fp_c2295e73ad\",\n",
      "    \"usage\": {\n",
      "        \"completion_tokens\": 3,\n",
      "        \"prompt_tokens\": 35,\n",
      "        \"total_tokens\": 38\n",
      "    }\n",
      "}\n"
     ]
    }
   ],
   "source": [
    "print(json.dumps(json.loads(response.model_dump_json()), indent=4))"
   ]
  },
  {
   "cell_type": "markdown",
   "id": "439a5208-f190-4597-ac60-34482180bb3a",
   "metadata": {},
   "source": [
    "## The API process shows..\n",
    "\n",
    "This:\n",
    "* The model for `GPT-3.5-turbo` process tokens differently from the tokenizers used before. It processes tokenization in different ways depending the type of characters placed on the input. The more complex meaning the word has the more subwords extracts and narrowness it needs to have to split characters to find the most similiar appropiate meaning to that input meaning. The less complex will require less tokenization to process as it's more common it's training parameters that it saw on it's training data such as hello, goodnight or breakfast etc. words used everyday compared to scientific, ancient, complex jokes words or even riddles.\n",
    "* The `completion_tokens` means the amount of tokens it made to give an output which was 3, the `prompt_tokens` is the amount of tokens it needed to make for the input prompt which is a little more than expected but still for very cheap for usage. In reality as of April 2024, OpenAI charge $0.0005 for every 1,000 tokens made. We have made 38 tokens (`total_tokens`) with input + output combined. In general we can make several responses until it will charge us 50% of 0.1 cent 🆒 SO CHEAP!!"
   ]
  },
  {
   "cell_type": "markdown",
   "id": "b8652876-8b28-4479-8a3c-2d40fbd6ba40",
   "metadata": {},
   "source": [
    "**Let's view the response by itself**"
   ]
  },
  {
   "cell_type": "code",
   "execution_count": 105,
   "id": "1e4e5549-8ac2-4db5-a823-5348b8969bf1",
   "metadata": {},
   "outputs": [
    {
     "data": {
      "text/plain": [
       "'Orange who?'"
      ]
     },
     "execution_count": 105,
     "metadata": {},
     "output_type": "execute_result"
    }
   ],
   "source": [
    "response.choices[0].message.content"
   ]
  },
  {
   "cell_type": "markdown",
   "id": "c3d37fe2-285b-456b-a7cd-031543ce1c3c",
   "metadata": {},
   "source": [
    "### Let's view another example to understand it more"
   ]
  },
  {
   "cell_type": "code",
   "execution_count": 14,
   "id": "62fb53a9-cab7-44ce-a404-fd0aa917a5ad",
   "metadata": {},
   "outputs": [],
   "source": [
    "client = OpenAI(api_key=api_key)\n",
    "response = client.chat.completions.create(\n",
    "    model=\"gpt-3.5-turbo\",\n",
    "    messages=[\n",
    "    {\"role\": \"system\", \"content\": \"You are a helpful assistant.\"},\n",
    "    {\"role\": \"user\", \"content\": \"Explain asynchronous programming in the style of willy wonka.\"},\n",
    "    ],\n",
    "    temperature=0,\n",
    ")\n",
    "\n",
    "# print(response.choices[0])"
   ]
  },
  {
   "cell_type": "code",
   "execution_count": 15,
   "id": "a43414c5-6743-4357-ae94-b2a3b387bb95",
   "metadata": {},
   "outputs": [
    {
     "name": "stdout",
     "output_type": "stream",
     "text": [
      "{\n",
      "    \"id\": \"chatcmpl-9J0JQBgSNurjwI9B5krlsVaX1VGDT\",\n",
      "    \"choices\": [\n",
      "        {\n",
      "            \"finish_reason\": \"stop\",\n",
      "            \"index\": 0,\n",
      "            \"logprobs\": null,\n",
      "            \"message\": {\n",
      "                \"content\": \"Ah, dear friend, let me take you on a whimsical journey into the world of asynchronous programming, where time dances to its own tune just like the Oompa Loompas in my chocolate factory!\\n\\nPicture this: in the land of synchronous programming, tasks are like obedient little children, waiting in line for their turn to be completed. But in the magical realm of asynchronous programming, tasks are like mischievous squirrels, darting about freely and completing their work in their own time.\\n\\nJust as my chocolate river flows endlessly, in asynchronous programming, multiple tasks can run simultaneously without waiting for each other. It's like having a grand feast where each dish is prepared by a different chef, all working in harmony to create a delightful meal.\\n\\nSo, my dear friend, embrace the wonder of asynchronous programming, where tasks can be completed out of order, just like how my candies are made in a whirlwind of magic and delight. Let your code dance to the beat of its own drum, and watch as the world of programming becomes a place of endless possibilities and sweet surprises!\",\n",
      "                \"role\": \"assistant\",\n",
      "                \"function_call\": null,\n",
      "                \"tool_calls\": null\n",
      "            }\n",
      "        }\n",
      "    ],\n",
      "    \"created\": 1714316460,\n",
      "    \"model\": \"gpt-3.5-turbo-0125\",\n",
      "    \"object\": \"chat.completion\",\n",
      "    \"system_fingerprint\": \"fp_3b956da36b\",\n",
      "    \"usage\": {\n",
      "        \"completion_tokens\": 217,\n",
      "        \"prompt_tokens\": 30,\n",
      "        \"total_tokens\": 247\n",
      "    }\n",
      "}\n"
     ]
    }
   ],
   "source": [
    "json_form_response = json.dumps(json.loads(response.model_dump_json()), indent=4)  #.replace(\"\\n\", '').strip()\n",
    "print(json_form_response)"
   ]
  },
  {
   "cell_type": "markdown",
   "id": "00019f9d-ee35-4eea-96c7-8e63f1bf8320",
   "metadata": {},
   "source": [
    "### OK we have view how to place inputs and get outputs with chat-gpt\n",
    "\n",
    "IT's very simple, that it doens't require manually tokenizing and bringing back to numbers and than text\n",
    "\n",
    "All of that is already done in 1 go!\n",
    "\n",
    "> Let's try to functionize than any time we make model request so we don't have to overlap our api request whenever there is an adjustment on code other than the response. It's best to keep that in 1 cell and in a function to need rewrite code"
   ]
  },
  {
   "cell_type": "code",
   "execution_count": 13,
   "id": "95c11c4b-9745-4d11-9d3b-ebf0cf948068",
   "metadata": {},
   "outputs": [],
   "source": [
    "import os\n",
    "api_key = os.getenv('OPEN_AI_API_KEY')"
   ]
  },
  {
   "cell_type": "markdown",
   "id": "7632ad8b-5403-4286-a6cd-0d8bcd6930ba",
   "metadata": {},
   "source": [
    "Let's engineer first how we'll functionize just the request\n",
    "\n",
    "already automizing the input and getting output cleanly informative format"
   ]
  },
  {
   "cell_type": "markdown",
   "id": "bf5a595c-0ab2-415e-af21-a451f26b766e",
   "metadata": {},
   "source": [
    "let's focus on making this functional, than we can add more improvative features such as prompt generation and rag"
   ]
  },
  {
   "cell_type": "markdown",
   "id": "5f0e5f83-f9ce-49e7-a175-3ad8eeaaab84",
   "metadata": {},
   "source": [
    "#### Let's make a function containing the message for the request"
   ]
  },
  {
   "cell_type": "code",
   "execution_count": 14,
   "id": "871c8cac-9dfe-4280-ac3a-838db8d6ca3a",
   "metadata": {},
   "outputs": [],
   "source": [
    "# message to model\n",
    "def message_request_to_model(input_text: str):\n",
    "    \"\"\"\n",
    "    Message to pass to the request on API\n",
    "    \"\"\"\n",
    "    message_to_model = [\n",
    "        {\"role\": \"system\", \"content\": \"You are a helpful assistant called 'Stellar'.\"},\n",
    "        {\"role\": \"user\", \"content\": input_text}, # This must be in string format or else the request won't be successful\n",
    "    ]\n",
    "\n",
    "    return message_to_model"
   ]
  },
  {
   "cell_type": "markdown",
   "id": "a8be4ae5-2910-4f92-b5ed-12f1164b85ec",
   "metadata": {},
   "source": [
    "#### Create a function containing the output of response on request"
   ]
  },
  {
   "cell_type": "code",
   "execution_count": 15,
   "id": "d6badfc2-07e0-449e-9ada-c13e9da3f377",
   "metadata": {},
   "outputs": [],
   "source": [
    "# Functionize API request from the very beginning as calling gpt for the first time\n",
    "def request_gpt_model(input_text,\n",
    "                      temperature,\n",
    "                      message_to_model_api,\n",
    "                      model: str=\"gpt-3.5-turbo\"):\n",
    "    \"\"\"\n",
    "    This will pass in a request to the gpt api with the messages and\n",
    "    will take the whole prompt generated as input as intructions to model\n",
    "    and output the similiar meaning on the output.\n",
    "    \"\"\"\n",
    "    # Create client\n",
    "    client = OpenAI(api_key=api_key)\n",
    "\n",
    "    # Make a request, for the input prompt\n",
    "    response = client.chat.completions.create(\n",
    "        model=model,\n",
    "        messages=message_to_model_api,\n",
    "        temperature=temperature,\n",
    "    )\n",
    "\n",
    "    # Output the message in readable format\n",
    "    output = response.choices[0].message.content\n",
    "    json_response = json.dumps(json.loads(response.model_dump_json()), indent=4)\n",
    "    # print(f\"{text_wrapper(output)}\")\n",
    "    print(output)\n",
    "    return output, json_response"
   ]
  },
  {
   "cell_type": "code",
   "execution_count": 93,
   "id": "6aaffca1-aaeb-41ab-b468-f6f18d241716",
   "metadata": {},
   "outputs": [],
   "source": [
    "# query = \"How does a stroke happen?\"\n",
    "# request_gpt_model(input_text=query,\n",
    "#                   temperature=0)"
   ]
  },
  {
   "cell_type": "markdown",
   "id": "a1481347-82c8-4745-affd-4e5f012a5cbe",
   "metadata": {},
   "source": [
    "We have used so far 731 tokens.\n",
    "\n",
    "This is high but it's because of the output text the model is giving. there usually complex and contructed language text the model has to use in the transformer meaning search but also from the big paragraphs it ouputs from a simple small input text.\n",
    "\n",
    "This is good though as it shows the completeness of the models ability to be thorough on all things to explain complete but yet practical enough to explain it simply without so much detail or facts. Just rather to the point of what question was asked and explaine ach point to there full exact point and push more."
   ]
  },
  {
   "cell_type": "markdown",
   "id": "2cf9b7e4-f279-4585-a885-3a394d8364c4",
   "metadata": {},
   "source": [
    "### Awesome! The request function is working\n",
    "\n",
    "Now that this is working let's work on tweaking and customizing it with more prompt enginerring \n",
    "\n",
    "Let's still not place the rag yet, we'll do that last. Let's make sure everything is working fine before the final phase we want to keep the code consistent and clean\n",
    "\n",
    "> Let's begin first by adding a sample prompt enginerring we'll add in the input.. We'll try (1) assistant role and (2) on user role. To see which would the model best respond towards.\n",
    ">\n",
    "By the sample format on the roles i mean adding the prompt instructions to the model, to give us the the best formatted and type of response based on the context we want such as context item but **NOT** from *RAG* yet, just from a sample of instruction text we'll give it with a few examples.\n",
    "\n",
    "Just as we learned from the original RAG project"
   ]
  },
  {
   "cell_type": "markdown",
   "id": "05b440eb-8708-4a32-8765-b194f4c6ef5a",
   "metadata": {},
   "source": [
    "# The LLM is working as expected now let's fully implement rag with LLM together\n",
    "\n",
    "All into 1 function"
   ]
  },
  {
   "cell_type": "markdown",
   "id": "4b31d14c-d9fe-41a3-8c83-e1f7842d9bda",
   "metadata": {},
   "source": [
    "### Save a log report of the models activity during request"
   ]
  },
  {
   "cell_type": "code",
   "execution_count": 16,
   "id": "a4da8548-d9ea-4e2c-b79a-66cb675bbc28",
   "metadata": {},
   "outputs": [],
   "source": [
    "# Functionize saving output to file\n",
    "def save_log_models_activity(query, prompt, continue_question, output, cont_output, embeds_dict, json_response,\n",
    "                             model, rag_pipeline, message_request_to_model, indices, embedding_model, source_directed: str):\n",
    "    \"\"\"\n",
    "    This will save the models input and output interaction, onto\n",
    "    a txt file, for each request, labeling model that was used.\n",
    "    What sort of embedding process, pipeline that was used and\n",
    "    date and time it was ran\n",
    "    \"\"\"\n",
    "    # If there is a follow up question:\n",
    "    input_query = \"\"\n",
    "    if continue_question != \"\":\n",
    "        input_query += continue_question\n",
    "    else:\n",
    "        input_query += query\n",
    "    \n",
    "    clean_query = re.sub(r'[^\\w\\s]', '', input_query).replace(' ', '_')\n",
    "    file_path = os.path.join(\"./logfiles/april-2024/\", f\"{clean_query}.txt\")\n",
    "    \n",
    "    #Open the file in write mode\n",
    "    with open(file_path, 'w', encoding='utf-8') as file:\n",
    "        file.write(f\"Original Query: {query}\\n\\n\")\n",
    "        if prompt != \"\":\n",
    "            file.write(f\"Base Prompt: {prompt}\\n\\n\")\n",
    "        if continue_question != \"\":\n",
    "            file.write(f\"Follow up question:\\n\\n{continue_question}\\n\\n\")\n",
    "            file.write(f\"Output:\\n\\n {cont_output}\")\n",
    "        else:\n",
    "            file.write(f\"Output:\\n\\n{output}\\n\\n\")\n",
    "\n",
    "        # Json response\n",
    "        file.write(f\"\\n\\nJson format response: {json_response}\\n\\n\")\n",
    "    \n",
    "        for idx in indices:\n",
    "            # Let's log the models activity in txt file\n",
    "            if rag_pipeline:\n",
    "                file.write(f\"{source_directed}\")\n",
    "                file.write(f\"\\n\\nPipeline Used: RAG\\n\")\n",
    "                file.write(f\"Embedding Model used on tokenizing pipeline:\\n\\n{embedding_model}\\n\")\n",
    "                \n",
    "            file.write(f\"\\nRelevant Passages: {embeds_dict[idx]['sentence_chunk']}\\n\\n\")\n",
    "            break\n",
    "        file.write(f\"Model used: {model}\\n\")\n",
    "        # file.write(f\"{message_request_to_model}\")\n",
    "        today = date.today()\n",
    "        current_time = datetime.now().time()\n",
    "        file.write(f\"Date: {today.strftime('%B %d, %Y')}\\nTime: {current_time.strftime('%H:%M:%S')}\\n\\n\")"
   ]
  },
  {
   "cell_type": "code",
   "execution_count": 18,
   "id": "5b7237e8-0ab2-4b14-bc5b-254e1e634d9b",
   "metadata": {},
   "outputs": [],
   "source": [
    "from typing import Dict, Any, List"
   ]
  },
  {
   "cell_type": "markdown",
   "id": "456da04b-b8f2-4b5c-9f31-591eb9a955eb",
   "metadata": {},
   "source": [
    "#### Retrieves RAGS output scores and indices"
   ]
  },
  {
   "cell_type": "code",
   "execution_count": 19,
   "id": "3ee76c99-7eac-4d3c-8166-3d2693d7f75e",
   "metadata": {},
   "outputs": [],
   "source": [
    "# Function\n",
    "def rag_resources(query: str,\n",
    "                  device: str=\"cuda\"):\n",
    "    \"\"\"\n",
    "    Extracts only the scores and indices of the top 5 best results\n",
    "    according to dot scores on query.\n",
    "    \"\"\"\n",
    "\n",
    "    # Retrieval\n",
    "    query_embeddings = embedding_model.encode(query, convert_to_tensor=True).to(device)\n",
    "\n",
    "    # Augmentation\n",
    "    dot_scores = util.dot_score(a=query_embeddings, b=embeddings)[0]\n",
    "\n",
    "    # Output\n",
    "    scores, indices = torch.topk(dot_scores, k=5)\n",
    "\n",
    "    return scores, indices\n",
    "\n",
    "# Format the prompt\n",
    "def prompt_formatter(prompt: str,\n",
    "                     context_items: List[Dict[str, Any]]):\n",
    "    \"\"\"\n",
    "    Format the base prompt with the user query.\n",
    "    \"\"\"\n",
    "\n",
    "    context = \"- \" + \"\\n- \".join(i[\"sentence_chunk\"] for i in context_items)\n",
    "\n",
    "    base_prompt = \"\"\"In this text, you will act as supportive medical assistant.\n",
    "Give yourself room to think.\n",
    "Explain each topic with facts and also suggestions based on the users needs.\n",
    "Keep your answers thorough but practical.\n",
    "You as the assistant will recieve context items for retrieving information.\n",
    "Use the following examples as reference for the ideal answer style.\n",
    "\\nExample 1. \n",
    "Query: How does genetics effect cancer?\n",
    "Answer: Some people inherit gene mutations (changes) from their parents. These inherited mutations are though rare but can occur in BRCA1 and BRCA2 gene mutations, which are related to break or ovarian cancer.\n",
    "\\nExample 2.\n",
    "Query: Can you get heart disease if you had a stroke?\n",
    "Answer: Yes, you can get heart disease. Chances get higher if you are viewing increase in blood pressure, diabites, cholesterol or smoking. Strokes however don't directly cause heart disease but does lead to it if no treatment is done.\n",
    "\\nExample 3.\n",
    "Query: What type of treatment should you do if you get breast cancer?\n",
    "Answer: That may vary depending on the size of the cancer? If you got a response from your doctor I can help suggest you what considerations you can do. One of the main treatments you can do is getting a surgey, chemotherapy or hormonal therapy. If you give me more details on your doctors response, I can help narrow what treatment can work best according to your record and body. \n",
    "\\nNow use the following context items to answer the user query:\n",
    "{context}\n",
    "\\nRelevant passages: Please extract the context items that helped you answer the user's question\n",
    "<extract relevant passages from the context here>\n",
    "User query: {query}\n",
    "Answer:\"\"\"\n",
    "\n",
    "    prompt = base_prompt.format(context=context, query=prompt)\n",
    "\n",
    "    return prompt"
   ]
  },
  {
   "cell_type": "code",
   "execution_count": 20,
   "id": "29a7c774-d45c-457a-afbd-51a398eba343",
   "metadata": {},
   "outputs": [],
   "source": [
    "from datetime import datetime, date"
   ]
  },
  {
   "cell_type": "markdown",
   "id": "b6080f12-0c41-4aa9-a90c-d9382fe61f72",
   "metadata": {},
   "source": [
    "#### Create entire system to call rag, use the outputs as prompts for LLM"
   ]
  },
  {
   "cell_type": "code",
   "execution_count": 21,
   "id": "171705f4-056d-450b-830c-2c334851450d",
   "metadata": {},
   "outputs": [],
   "source": [
    "# Function RAG-GPT\n",
    "def rag_gpt(query: str,\n",
    "            continue_question: str=\"\",\n",
    "            rag_pipeline: bool=True,\n",
    "            temperature: int=0,\n",
    "            model: str=\"gpt-3.5-turbo\",\n",
    "            embeds_dict=embeds_dict):\n",
    "    \"\"\"\n",
    "    This contains the RAG system implemented with\n",
    "    OpenAI models. This will process the the data through\n",
    "    RAG, afterwards be formatted into instructive prompt to model\n",
    "    filled with examples, context items and query. Afterwards,\n",
    "    this prompt is passed the models endpoint on API and cleanly return's\n",
    "    the output on response.\n",
    "    \"\"\"\n",
    "\n",
    "    if continue_question == \"\":\n",
    "        print(f\"Your question: {query}\\n\")\n",
    "    else:\n",
    "        print(f\"Your Question: {continue_question}\\n\")\n",
    "        \n",
    "    # RAG resources\n",
    "    # scores, indices = rag_resources(query)\n",
    "    if rag_pipeline:\n",
    "        scores, indices = rag_resources(query)\n",
    "        # Get context item for prompt generation\n",
    "        context_items = [embeds_dict[idx] for idx in indices]\n",
    "    \n",
    "        # augment the context items with the base prompt and user query\n",
    "        prompt = prompt_formatter(query, context_items)\n",
    "\n",
    "        # Show analytics on response data   \n",
    "        top_score = [score.item() for score in scores]\n",
    "        print(f\"Highest Result: {round(top_score[0], 2)*100}%\\n\")\n",
    "\n",
    "    else:\n",
    "        prompt = query\n",
    "\n",
    "    # LLM input prompt\n",
    "    \n",
    "    # If there is follow up question\n",
    "    # Let's log the models activity in txt file    \n",
    "    if continue_question != \"\":\n",
    "        message_request = message_request_to_model(input_text=continue_question)\n",
    "        cont_output, json_response = request_gpt_model(continue_question, temperature=temperature, message_to_model_api=message_request, model=model)\n",
    "        cont_output\n",
    "        output = \"\"\n",
    "        index = embeds_dict[indices[0]]\n",
    "        # Let's get the link or page number of retrieval\n",
    "        link_or_pagnum = index[\"link_or_page_number\"]\n",
    "        link_or_pagnum = str(link_or_pagnum)\n",
    "        if link_or_pagnum.isdigit():\n",
    "            # link_or_pagnum = int(link_or_pagnum)\n",
    "            source = f\"The sources origins comes from a PDF\"\n",
    "            save_log_models_activity(query=query,\n",
    "                                     prompt=prompt,\n",
    "                                     continue_question=continue_question,\n",
    "                                     output=output,\n",
    "                                     cont_output=cont_output,\n",
    "                                     embeds_dict=embeds_dict,\n",
    "                                     json_response=json_response,\n",
    "                                     model=model,\n",
    "                                     rag_pipeline=rag_pipeline,\n",
    "                                     message_request_to_model=continue_question,\n",
    "                                     indices=indices,\n",
    "                                     embedding_model=embedding_model,\n",
    "                                     source_directed=source)\n",
    "\n",
    "        else:\n",
    "            link = f\"Source Directed : {index['link_or_page_number']}\"\n",
    "            save_log_models_activity(query=query,\n",
    "                                     prompt=prompt,\n",
    "                                     continue_question=continue_question,\n",
    "                                     output=output,\n",
    "                                     cont_output=cont_output,\n",
    "                                     embeds_dict=embeds_dict,\n",
    "                                     json_response=json_response,\n",
    "                                     model=model,\n",
    "                                     rag_pipeline=rag_pipeline,\n",
    "                                     message_request_to_model=continue_question,\n",
    "                                     indices=indices,\n",
    "                                     embedding_model=embedding_model,\n",
    "                                     source_directed=link)\n",
    "    \n",
    "    # If no follow up question\n",
    "    else:\n",
    "        message_request = message_request_to_model(input_text=prompt)\n",
    "        output, json_response = request_gpt_model(prompt, temperature=temperature, message_to_model_api=message_request, model=model)\n",
    "        output\n",
    "        cont_output = \"\"\n",
    "        if rag_pipeline:\n",
    "            index = embeds_dict[indices[0]]\n",
    "            # Let's get the link or page number of retrieval\n",
    "            link_or_pagnum = index[\"link_or_page_number\"]\n",
    "            link_or_pagnum = str(link_or_pagnum)\n",
    "            if link_or_pagnum.isdigit():\n",
    "                print(\"is digit\\n\")\n",
    "                source = f\"The sources origins comes from a PDF\"\n",
    "                save_log_models_activity(query=query,\n",
    "                                         prompt=prompt,\n",
    "                                         continue_question=continue_question,\n",
    "                                         output=output,\n",
    "                                         cont_output=cont_output,\n",
    "                                         embeds_dict=embeds_dict,\n",
    "                                         json_response=json_response,\n",
    "                                         model=model,\n",
    "                                         rag_pipeline=rag_pipeline,\n",
    "                                         message_request_to_model=query,\n",
    "                                         indices=indices,\n",
    "                                         embedding_model=embedding_model,\n",
    "                                         source_directed=source)\n",
    "    \n",
    "            else:\n",
    "                link = f\"Source Directed : {index['link_or_page_number']}\"\n",
    "                save_log_models_activity(query=query,\n",
    "                             prompt=prompt,\n",
    "                             continue_question=continue_question,\n",
    "                             output=output,\n",
    "                             cont_output=cont_output,\n",
    "                             embeds_dict=embeds_dict,\n",
    "                             json_response=json_response,\n",
    "                             model=model,\n",
    "                             rag_pipeline=rag_pipeline,\n",
    "                             message_request_to_model=query,\n",
    "                             indices=indices,\n",
    "                             embedding_model=embedding_model,\n",
    "                             source_directed=link)\n",
    "        else:\n",
    "            save_log_models_activity(query=query,\n",
    "                                     prompt=prompt,\n",
    "                                     continue_question=\"\",\n",
    "                                     output=output,\n",
    "                                     cont_output=\"\",\n",
    "                                     embeds_dict=embeds_dict,\n",
    "                                     json_response=json_response,\n",
    "                                     model=model,\n",
    "                                     rag_pipeline=rag_pipeline,\n",
    "                                     message_request_to_model=\"\",\n",
    "                                     indices=\"\",\n",
    "                                     embedding_model=embedding_model,\n",
    "                                     source_directed=\"\")\n",
    "            \n",
    "    if rag_pipeline:\n",
    "        for idx in indices:\n",
    "            print(f\"\\n\\nOriginated Source:\\n\\n {embeds_dict[idx]['sentence_chunk']}\\n\")\n",
    "            link_or_pagnum = embeds_dict[idx]['link_or_page_number']\n",
    "            link_or_pagnum = str(link_or_pagnum)\n",
    "            if link_or_pagnum.isdigit():\n",
    "                link_or_pagnum = int(link_or_pagnum)\n",
    "                print(f\"The sources origins comes from a PDF\")\n",
    "            else:\n",
    "                print(f\"Source Directed : {embeds_dict[idx]['link_or_page_number']}\")   \n",
    "            break\n",
    "\n",
    "    else:\n",
    "        pass"
   ]
  },
  {
   "cell_type": "code",
   "execution_count": 22,
   "id": "fe31e11d-5e14-41da-9b90-11ca72c2daff",
   "metadata": {},
   "outputs": [
    {
     "name": "stdout",
     "output_type": "stream",
     "text": [
      "Would you like a follow up question as well? Type your questions here: | Otherwise just click 'ENTER'  \n"
     ]
    },
    {
     "name": "stdout",
     "output_type": "stream",
     "text": [
      "Your question: what is VSA from tom williams?\n",
      "\n",
      "VSA stands for Volume Spread Analysis, which is a trading methodology that focuses on analyzing the relationship between volume, price, and spread of a financial instrument. It was popularized by Tom Williams, who developed the concept based on the idea that volume is a key indicator of market strength and weakness. VSA is used by traders to interpret market activity and make trading decisions based on the analysis of volume patterns.\n"
     ]
    }
   ],
   "source": [
    "base_query = \"what is VSA from tom williams?\"\n",
    "alternating_query = input(\"Would you like a follow up question as well? Type your questions here: | Otherwise just click 'ENTER' \")\n",
    "if alternating_query != \"\":\n",
    "    rag_gpt(query=base_query, continue_question=alternating_query)\n",
    "else:\n",
    "    rag_gpt(query=base_query, rag_pipeline=False)"
   ]
  },
  {
   "cell_type": "markdown",
   "id": "75482759-aedf-435d-b4cc-45167b190817",
   "metadata": {},
   "source": [
    "## The model seems capable.\n",
    "\n",
    "> I would  be great to log it's outputs and our query in a `txt` file that way we don't have memorize or remember rather have solid reports of what's been going on\n",
    "\n",
    "### Make txt file logging a report of the models output\n",
    "\n",
    "We can make the filename different by naming it based on the queries questions"
   ]
  },
  {
   "cell_type": "markdown",
   "id": "6f61311f-c509-4627-a78e-b6d836f19f78",
   "metadata": {},
   "source": [
    "### **There is 1 issue**\n",
    "📦\n",
    "It seems like the our function doesn't save the request if it's a follow up question.\n",
    "\n",
    "We need to fix that, so that whatever question will be logged back in ✅\n",
    "\n",
    "> **Important:** After this than we can try to place this model into an app that was referenced from the original rag project"
   ]
  },
  {
   "cell_type": "markdown",
   "id": "8a15935c-1e21-43c0-9d62-31a0d932cca9",
   "metadata": {},
   "source": [
    "#### GREAT! OUR whole function is working as expected\n",
    "\n",
    "Let's work on an application\n",
    "\n",
    "## Let's add this model script onto an application to make the UI better and more appealing to users.\n",
    "\n",
    "Here is a documentation that we can do this with LLM - https://www.gradio.app/guides/creating-a-chatbot-fast"
   ]
  },
  {
   "cell_type": "markdown",
   "id": "34d5c880-cfce-4829-94b9-78e1cd8809ba",
   "metadata": {},
   "source": [
    "#### Let's use gradio to make the chatbot UI\n",
    "\n",
    "I'm going to have to update my `typer` dpendency to be aligned, hopefully this doesn't overlap with `spacy` nor `weasel`\n",
    "\n",
    "> **Important:** Unfortunately though, gradio needs a typer version more than 0.10 and spacy and weasel version right not can only support less or equal to 0.10.. I'll have to do the UI application development on another venv notebook, to keep the dependencies from clashing from each other.\n",
    ">\n",
    "> This will likely be the cleanest way we can do this to avoid errors.\n",
    ">\n",
    "> In that case i'll keep everything here the same including data files and logfiles in same directory, if i want to retrieve them out of this environment, i'll just call for them directly towards this directory and retrieve them from another directory."
   ]
  },
  {
   "cell_type": "markdown",
   "id": "5a483d6f-1de8-4c77-9f90-1e16a9c4cacb",
   "metadata": {},
   "source": [
    "### let's make an API structure that stores our model to recieve text from `gradio`"
   ]
  },
  {
   "cell_type": "code",
   "execution_count": 26,
   "id": "33e1be1f-04d4-4aed-862f-5089cb92121b",
   "metadata": {},
   "outputs": [],
   "source": [
    "# !pip install flask"
   ]
  },
  {
   "cell_type": "code",
   "execution_count": 28,
   "id": "466fa5cd-55b2-4443-87c3-124a14fdd451",
   "metadata": {},
   "outputs": [
    {
     "ename": "TypeError",
     "evalue": "rag_gpt() missing 1 required positional argument: 'query'",
     "output_type": "error",
     "traceback": [
      "\u001b[1;31m---------------------------------------------------------------------------\u001b[0m",
      "\u001b[1;31mTypeError\u001b[0m                                 Traceback (most recent call last)",
      "Cell \u001b[1;32mIn[28], line 4\u001b[0m\n\u001b[0;32m      1\u001b[0m \u001b[38;5;28;01mfrom\u001b[39;00m \u001b[38;5;21;01mflask\u001b[39;00m \u001b[38;5;28;01mimport\u001b[39;00m Flask, request, jsonify\n\u001b[0;32m      3\u001b[0m \u001b[38;5;66;03m# Load the whole model here\u001b[39;00m\n\u001b[1;32m----> 4\u001b[0m \u001b[43mrag_gpt\u001b[49m\u001b[43m(\u001b[49m\u001b[43m)\u001b[49m\n",
      "\u001b[1;31mTypeError\u001b[0m: rag_gpt() missing 1 required positional argument: 'query'"
     ]
    }
   ],
   "source": [
    "from flask import Flask, request, jsonify\n",
    "\n",
    "# Load the whole model here\n",
    "rag_gpt()"
   ]
  },
  {
   "cell_type": "code",
   "execution_count": null,
   "id": "e491dd17-979d-463c-a410-4360b24d14f1",
   "metadata": {},
   "outputs": [],
   "source": []
  }
 ],
 "metadata": {
  "kernelspec": {
   "display_name": "Python 3 (ipykernel)",
   "language": "python",
   "name": "python3"
  },
  "language_info": {
   "codemirror_mode": {
    "name": "ipython",
    "version": 3
   },
   "file_extension": ".py",
   "mimetype": "text/x-python",
   "name": "python",
   "nbconvert_exporter": "python",
   "pygments_lexer": "ipython3",
   "version": "3.8.2"
  }
 },
 "nbformat": 4,
 "nbformat_minor": 5
}
